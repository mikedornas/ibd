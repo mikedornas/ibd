{
  "nbformat": 4,
  "nbformat_minor": 0,
  "metadata": {
    "kernelspec": {
      "display_name": "Python 3",
      "language": "python",
      "name": "python3"
    },
    "language_info": {
      "codemirror_mode": {
        "name": "ipython",
        "version": 3
      },
      "file_extension": ".py",
      "mimetype": "text/x-python",
      "name": "python",
      "nbconvert_exporter": "python",
      "pygments_lexer": "ipython3",
      "version": "3.7.3"
    },
    "colab": {
      "name": "ibd_tp_01_mike.ipynb",
      "provenance": [],
      "collapsed_sections": [],
      "toc_visible": true,
      "include_colab_link": true
    }
  },
  "cells": [
    {
      "cell_type": "markdown",
      "metadata": {
        "id": "view-in-github",
        "colab_type": "text"
      },
      "source": [
        "<a href=\"https://colab.research.google.com/github/mikedornas/ibd/blob/main/ibd_tp_01_mike.ipynb\" target=\"_parent\"><img src=\"https://colab.research.google.com/assets/colab-badge.svg\" alt=\"Open In Colab\"/></a>"
      ]
    },
    {
      "cell_type": "markdown",
      "metadata": {
        "id": "2quaM0o5G404"
      },
      "source": [
        "<h1><center>Universidade Federal de Minas Gerais</center></h1>\n",
        "<h3><center>Departamento de Ciência da Computação</center></h3>\n",
        "<h3><center>Introdução a Banco de Dados -  Trabalho Prático #1</center></h3>\n"
      ]
    },
    {
      "cell_type": "markdown",
      "metadata": {
        "id": "__T58tCjoXSx"
      },
      "source": [
        "# 1. Introdução"
      ]
    },
    {
      "cell_type": "markdown",
      "metadata": {
        "id": "r9gaXCSG1-6y"
      },
      "source": [
        "### 1.1. Contexto"
      ]
    },
    {
      "cell_type": "markdown",
      "metadata": {
        "id": "8glNz6nlG405"
      },
      "source": [
        "Nesse trabalho prático utilizaremos o banco de dados representado pelo schema abaixo:\n",
        "\n",
        "![Modelo_BD.png](https://github.com/claudiovaliense/ibd/blob/main/data/schema.png?raw=true)"
      ]
    },
    {
      "cell_type": "markdown",
      "metadata": {
        "id": "O-XWIzUOyW_b",
        "pycharm": {
          "name": "#%% md\n"
        }
      },
      "source": [
        "### 1.2. Entrega\n"
      ]
    },
    {
      "cell_type": "markdown",
      "metadata": {
        "id": "AvrMbGsEyjUu",
        "pycharm": {
          "name": "#%% md\n"
        }
      },
      "source": [
        "\n",
        "\n",
        "1.   Você deve completar esse notebook, executar todas as células e submetê-lo no **Minha UFMG**.\n",
        "2.   Você pode entregar até o dia 29/07/2021 às 23:59.\n",
        "3. O trabalho é individual e vale 15 pontos.\n",
        "\n",
        "\n",
        "\n",
        "\n"
      ]
    },
    {
      "cell_type": "markdown",
      "metadata": {
        "id": "HJwmiueqok-8"
      },
      "source": [
        "# 2. Preparação do Ambiente"
      ]
    },
    {
      "cell_type": "code",
      "metadata": {
        "scrolled": true,
        "id": "Wv-_wG6VG408"
      },
      "source": [
        "# importando os packages necessários\n",
        "import io\n",
        "import sqlite3\n",
        "import pandas as pd\n",
        "import matplotlib.pyplot as plt"
      ],
      "execution_count": 1,
      "outputs": []
    },
    {
      "cell_type": "code",
      "metadata": {
        "id": "wFSKBvDfG41C",
        "pycharm": {
          "name": "#%%\n"
        },
        "colab": {
          "base_uri": "https://localhost:8080/"
        },
        "outputId": "974a5f7a-b889-48c8-f0bb-0640182c3261"
      },
      "source": [
        "# download do dump do banco de  dados:\n",
        "!wget https://raw.githubusercontent.com/claudiovaliense/ibd/master/data/despesas_publicas_tp1.sql"
      ],
      "execution_count": 2,
      "outputs": [
        {
          "output_type": "stream",
          "text": [
            "--2021-07-29 19:17:23--  https://raw.githubusercontent.com/claudiovaliense/ibd/master/data/despesas_publicas_tp1.sql\n",
            "Resolving raw.githubusercontent.com (raw.githubusercontent.com)... 185.199.108.133, 185.199.109.133, 185.199.110.133, ...\n",
            "Connecting to raw.githubusercontent.com (raw.githubusercontent.com)|185.199.108.133|:443... connected.\n",
            "HTTP request sent, awaiting response... 200 OK\n",
            "Length: 277046 (271K) [text/plain]\n",
            "Saving to: ‘despesas_publicas_tp1.sql’\n",
            "\n",
            "\r          despesas_   0%[                    ]       0  --.-KB/s               \rdespesas_publicas_t 100%[===================>] 270.55K  --.-KB/s    in 0.01s   \n",
            "\n",
            "2021-07-29 19:17:23 (18.8 MB/s) - ‘despesas_publicas_tp1.sql’ saved [277046/277046]\n",
            "\n"
          ],
          "name": "stdout"
        }
      ]
    },
    {
      "cell_type": "markdown",
      "metadata": {
        "id": "FTqbHHOw2iEE",
        "pycharm": {
          "name": "#%% md\n"
        }
      },
      "source": [
        "### 2.1. Criação da conexão com o banco\n",
        "* No momento da conexão, é informado o nome do arquivo onde será montado o banco de dados. No nosso caso, este arquivo não precisa ser pré-existente, porque iremos carregar as informações de um dump;\n",
        "* Se este comando for executado com um arquivo que já existe e possui as mesmas tabelas que serão criadas, ocorrerá um erro no momento da execução do script mais à frente."
      ]
    },
    {
      "cell_type": "code",
      "metadata": {
        "id": "wuRZ8VP3G41G",
        "pycharm": {
          "name": "#%%\n"
        }
      },
      "source": [
        "conn = sqlite3.connect('despesas.db')\n",
        "cursor = conn.cursor()"
      ],
      "execution_count": 3,
      "outputs": []
    },
    {
      "cell_type": "markdown",
      "metadata": {
        "id": "Us7-HZg-G41N",
        "pycharm": {
          "name": "#%% md\n"
        }
      },
      "source": [
        "### 2.2. Execução do script para inicializar e popular o banco de dados\n",
        "\n",
        "* Criada a conexão, iremos utilizar o arquivo .sql disponibilizado para recuperar o schema e os dados do banco"
      ]
    },
    {
      "cell_type": "code",
      "metadata": {
        "id": "3tthWfmTG41P",
        "pycharm": {
          "name": "#%%\n"
        },
        "colab": {
          "base_uri": "https://localhost:8080/"
        },
        "outputId": "4cefed61-3eb1-461a-9a4c-153f8dda8064"
      },
      "source": [
        "f = io.open('despesas_publicas_tp1.sql', 'r', encoding='ISO-8859-1')\n",
        "sql = f.read()\n",
        "cursor.executescript(sql)"
      ],
      "execution_count": 4,
      "outputs": [
        {
          "output_type": "execute_result",
          "data": {
            "text/plain": [
              "<sqlite3.Cursor at 0x7fbc04de55e0>"
            ]
          },
          "metadata": {
            "tags": []
          },
          "execution_count": 4
        }
      ]
    },
    {
      "cell_type": "markdown",
      "metadata": {
        "id": "bq5lfEMRG41T"
      },
      "source": [
        "### 2.3. Realizando consultas no banco de dados\n",
        "\n",
        "* Criada a conexão e realizada a carga dos dados no banco, pode ser executada qualquer consulta SQL;\n",
        "* O SQLite3 permite que o retorno dos dados seja feito em vários formatos, entretanto, utilizaremos o retorno em um dataframe do Pandas.\n",
        "\n",
        "\n",
        "\n",
        "**CONSULTA EXEMPLO:** todos os órgãos ordenados pela quantidade de orgãos subordinados de forma decrescente."
      ]
    },
    {
      "cell_type": "code",
      "metadata": {
        "id": "WcR2nrjLG41T",
        "pycharm": {
          "name": "#%%\n"
        },
        "colab": {
          "base_uri": "https://localhost:8080/",
          "height": 483
        },
        "outputId": "ceb0ef49-2946-4686-e138-07c68c741da9"
      },
      "source": [
        "df = pd.read_sql_query(\"SELECT * FROM ORGAO ORDER BY QTD_ORGAOS_SUBORDINADOS DESC\", conn)\n",
        "df"
      ],
      "execution_count": 5,
      "outputs": [
        {
          "output_type": "execute_result",
          "data": {
            "text/html": [
              "<div>\n",
              "<style scoped>\n",
              "    .dataframe tbody tr th:only-of-type {\n",
              "        vertical-align: middle;\n",
              "    }\n",
              "\n",
              "    .dataframe tbody tr th {\n",
              "        vertical-align: top;\n",
              "    }\n",
              "\n",
              "    .dataframe thead th {\n",
              "        text-align: right;\n",
              "    }\n",
              "</style>\n",
              "<table border=\"1\" class=\"dataframe\">\n",
              "  <thead>\n",
              "    <tr style=\"text-align: right;\">\n",
              "      <th></th>\n",
              "      <th>COD_ORGAO</th>\n",
              "      <th>NOME_ORGAO</th>\n",
              "      <th>QTD_ORGAOS_SUBORDINADOS</th>\n",
              "    </tr>\n",
              "  </thead>\n",
              "  <tbody>\n",
              "    <tr>\n",
              "      <th>0</th>\n",
              "      <td>26000</td>\n",
              "      <td>Ministério da Educação</td>\n",
              "      <td>104</td>\n",
              "    </tr>\n",
              "    <tr>\n",
              "      <th>1</th>\n",
              "      <td>30000</td>\n",
              "      <td>Ministério da Justiça e Segurança Pública</td>\n",
              "      <td>6</td>\n",
              "    </tr>\n",
              "    <tr>\n",
              "      <th>2</th>\n",
              "      <td>22000</td>\n",
              "      <td>Ministério da Agricultura, Pecuária e Abastec</td>\n",
              "      <td>5</td>\n",
              "    </tr>\n",
              "    <tr>\n",
              "      <th>3</th>\n",
              "      <td>24000</td>\n",
              "      <td>Ministério da Ciência, Tecnologia, Inovações</td>\n",
              "      <td>4</td>\n",
              "    </tr>\n",
              "    <tr>\n",
              "      <th>4</th>\n",
              "      <td>52000</td>\n",
              "      <td>Ministério da Defesa</td>\n",
              "      <td>4</td>\n",
              "    </tr>\n",
              "    <tr>\n",
              "      <th>5</th>\n",
              "      <td>53000</td>\n",
              "      <td>Ministério da Integração Nacional</td>\n",
              "      <td>4</td>\n",
              "    </tr>\n",
              "    <tr>\n",
              "      <th>6</th>\n",
              "      <td>25000</td>\n",
              "      <td>Ministério da Fazenda</td>\n",
              "      <td>3</td>\n",
              "    </tr>\n",
              "    <tr>\n",
              "      <th>7</th>\n",
              "      <td>36000</td>\n",
              "      <td>Ministério da Saúde</td>\n",
              "      <td>3</td>\n",
              "    </tr>\n",
              "    <tr>\n",
              "      <th>8</th>\n",
              "      <td>20000</td>\n",
              "      <td>Presidência da República</td>\n",
              "      <td>2</td>\n",
              "    </tr>\n",
              "    <tr>\n",
              "      <th>9</th>\n",
              "      <td>39000</td>\n",
              "      <td>Ministério dos Transportes, Portos e Aviação</td>\n",
              "      <td>2</td>\n",
              "    </tr>\n",
              "    <tr>\n",
              "      <th>10</th>\n",
              "      <td>44000</td>\n",
              "      <td>Ministério do Meio Ambiente</td>\n",
              "      <td>2</td>\n",
              "    </tr>\n",
              "    <tr>\n",
              "      <th>11</th>\n",
              "      <td>55000</td>\n",
              "      <td>Ministério do Desenvolvimento Social</td>\n",
              "      <td>2</td>\n",
              "    </tr>\n",
              "    <tr>\n",
              "      <th>12</th>\n",
              "      <td>35000</td>\n",
              "      <td>Ministério das Relações Exteriores</td>\n",
              "      <td>1</td>\n",
              "    </tr>\n",
              "    <tr>\n",
              "      <th>13</th>\n",
              "      <td>81000</td>\n",
              "      <td>Ministério dos Direitos Humanos</td>\n",
              "      <td>1</td>\n",
              "    </tr>\n",
              "  </tbody>\n",
              "</table>\n",
              "</div>"
            ],
            "text/plain": [
              "    COD_ORGAO  ... QTD_ORGAOS_SUBORDINADOS\n",
              "0       26000  ...                     104\n",
              "1       30000  ...                       6\n",
              "2       22000  ...                       5\n",
              "3       24000  ...                       4\n",
              "4       52000  ...                       4\n",
              "5       53000  ...                       4\n",
              "6       25000  ...                       3\n",
              "7       36000  ...                       3\n",
              "8       20000  ...                       2\n",
              "9       39000  ...                       2\n",
              "10      44000  ...                       2\n",
              "11      55000  ...                       2\n",
              "12      35000  ...                       1\n",
              "13      81000  ...                       1\n",
              "\n",
              "[14 rows x 3 columns]"
            ]
          },
          "metadata": {
            "tags": []
          },
          "execution_count": 5
        }
      ]
    },
    {
      "cell_type": "markdown",
      "metadata": {
        "id": "8n1eSJAcppwc",
        "pycharm": {
          "name": "#%% md\n"
        }
      },
      "source": [
        "#3. Consultas"
      ]
    },
    {
      "cell_type": "markdown",
      "metadata": {
        "id": "sf2LzUSWs4nM"
      },
      "source": [
        "Expresse cada consulta abaixo utilizando SQL: \n"
      ]
    },
    {
      "cell_type": "markdown",
      "metadata": {
        "id": "eM71aOGsG41X",
        "pycharm": {
          "name": "#%% md\n"
        }
      },
      "source": [
        "**1.** Retorne a quantidade de palavras em cada registro da coluna nome_orgao da tabela orgão."
      ]
    },
    {
      "cell_type": "code",
      "metadata": {
        "id": "x6bTFKHHG41j",
        "pycharm": {
          "name": "#%%\n"
        },
        "colab": {
          "base_uri": "https://localhost:8080/",
          "height": 483
        },
        "outputId": "d894f6af-8f76-47e9-eda7-f801cd86f0ee"
      },
      "source": [
        "df = pd.read_sql_query(\"SELECT NOME_ORGAO, (length(rtrim(NOME_ORGAO)) - length(replace(rtrim(NOME_ORGAO), ' ', '')) + 1) AS QTD_PALAVRAS FROM ORGAO\", conn)\n",
        "df"
      ],
      "execution_count": 50,
      "outputs": [
        {
          "output_type": "execute_result",
          "data": {
            "text/html": [
              "<div>\n",
              "<style scoped>\n",
              "    .dataframe tbody tr th:only-of-type {\n",
              "        vertical-align: middle;\n",
              "    }\n",
              "\n",
              "    .dataframe tbody tr th {\n",
              "        vertical-align: top;\n",
              "    }\n",
              "\n",
              "    .dataframe thead th {\n",
              "        text-align: right;\n",
              "    }\n",
              "</style>\n",
              "<table border=\"1\" class=\"dataframe\">\n",
              "  <thead>\n",
              "    <tr style=\"text-align: right;\">\n",
              "      <th></th>\n",
              "      <th>NOME_ORGAO</th>\n",
              "      <th>QTD_PALAVRAS</th>\n",
              "    </tr>\n",
              "  </thead>\n",
              "  <tbody>\n",
              "    <tr>\n",
              "      <th>0</th>\n",
              "      <td>Presidência da República</td>\n",
              "      <td>3</td>\n",
              "    </tr>\n",
              "    <tr>\n",
              "      <th>1</th>\n",
              "      <td>Ministério da Agricultura, Pecuária e Abastec</td>\n",
              "      <td>6</td>\n",
              "    </tr>\n",
              "    <tr>\n",
              "      <th>2</th>\n",
              "      <td>Ministério da Ciência, Tecnologia, Inovações</td>\n",
              "      <td>5</td>\n",
              "    </tr>\n",
              "    <tr>\n",
              "      <th>3</th>\n",
              "      <td>Ministério da Fazenda</td>\n",
              "      <td>3</td>\n",
              "    </tr>\n",
              "    <tr>\n",
              "      <th>4</th>\n",
              "      <td>Ministério da Educação</td>\n",
              "      <td>3</td>\n",
              "    </tr>\n",
              "    <tr>\n",
              "      <th>5</th>\n",
              "      <td>Ministério da Justiça e Segurança Pública</td>\n",
              "      <td>6</td>\n",
              "    </tr>\n",
              "    <tr>\n",
              "      <th>6</th>\n",
              "      <td>Ministério das Relações Exteriores</td>\n",
              "      <td>4</td>\n",
              "    </tr>\n",
              "    <tr>\n",
              "      <th>7</th>\n",
              "      <td>Ministério da Saúde</td>\n",
              "      <td>3</td>\n",
              "    </tr>\n",
              "    <tr>\n",
              "      <th>8</th>\n",
              "      <td>Ministério dos Transportes, Portos e Aviação</td>\n",
              "      <td>6</td>\n",
              "    </tr>\n",
              "    <tr>\n",
              "      <th>9</th>\n",
              "      <td>Ministério do Meio Ambiente</td>\n",
              "      <td>4</td>\n",
              "    </tr>\n",
              "    <tr>\n",
              "      <th>10</th>\n",
              "      <td>Ministério da Defesa</td>\n",
              "      <td>3</td>\n",
              "    </tr>\n",
              "    <tr>\n",
              "      <th>11</th>\n",
              "      <td>Ministério da Integração Nacional</td>\n",
              "      <td>4</td>\n",
              "    </tr>\n",
              "    <tr>\n",
              "      <th>12</th>\n",
              "      <td>Ministério do Desenvolvimento Social</td>\n",
              "      <td>4</td>\n",
              "    </tr>\n",
              "    <tr>\n",
              "      <th>13</th>\n",
              "      <td>Ministério dos Direitos Humanos</td>\n",
              "      <td>4</td>\n",
              "    </tr>\n",
              "  </tbody>\n",
              "</table>\n",
              "</div>"
            ],
            "text/plain": [
              "                                       NOME_ORGAO  QTD_PALAVRAS\n",
              "0                        Presidência da República             3\n",
              "1   Ministério da Agricultura, Pecuária e Abastec             6\n",
              "2   Ministério da Ciência, Tecnologia, Inovações              5\n",
              "3                           Ministério da Fazenda             3\n",
              "4                          Ministério da Educação             3\n",
              "5       Ministério da Justiça e Segurança Pública             6\n",
              "6              Ministério das Relações Exteriores             4\n",
              "7                             Ministério da Saúde             3\n",
              "8   Ministério dos Transportes, Portos e Aviação              6\n",
              "9                     Ministério do Meio Ambiente             4\n",
              "10                           Ministério da Defesa             3\n",
              "11              Ministério da Integração Nacional             4\n",
              "12           Ministério do Desenvolvimento Social             4\n",
              "13                Ministério dos Direitos Humanos             4"
            ]
          },
          "metadata": {
            "tags": []
          },
          "execution_count": 50
        }
      ]
    },
    {
      "cell_type": "markdown",
      "metadata": {
        "id": "5631TeDlG41m",
        "pycharm": {
          "name": "#%% md\n"
        }
      },
      "source": [
        "\n",
        "**2.** Dado a coluna nome_orgao, retorne a primeira posição que a string 'da' aparece da tabela orgão "
      ]
    },
    {
      "cell_type": "code",
      "metadata": {
        "id": "XBFBGjjTG41n",
        "pycharm": {
          "name": "#%%\n"
        },
        "colab": {
          "base_uri": "https://localhost:8080/",
          "height": 80
        },
        "outputId": "17547ef8-2ac4-4e6d-f13b-babdaf2c405f"
      },
      "source": [
        "df = pd.read_sql_query(\"SELECT * FROM ORGAO WHERE NOME_ORGAO LIKE '%da%' LIMIT 1\", conn)\n",
        "df"
      ],
      "execution_count": 25,
      "outputs": [
        {
          "output_type": "execute_result",
          "data": {
            "text/html": [
              "<div>\n",
              "<style scoped>\n",
              "    .dataframe tbody tr th:only-of-type {\n",
              "        vertical-align: middle;\n",
              "    }\n",
              "\n",
              "    .dataframe tbody tr th {\n",
              "        vertical-align: top;\n",
              "    }\n",
              "\n",
              "    .dataframe thead th {\n",
              "        text-align: right;\n",
              "    }\n",
              "</style>\n",
              "<table border=\"1\" class=\"dataframe\">\n",
              "  <thead>\n",
              "    <tr style=\"text-align: right;\">\n",
              "      <th></th>\n",
              "      <th>COD_ORGAO</th>\n",
              "      <th>NOME_ORGAO</th>\n",
              "      <th>QTD_ORGAOS_SUBORDINADOS</th>\n",
              "    </tr>\n",
              "  </thead>\n",
              "  <tbody>\n",
              "    <tr>\n",
              "      <th>0</th>\n",
              "      <td>20000</td>\n",
              "      <td>Presidência da República</td>\n",
              "      <td>2</td>\n",
              "    </tr>\n",
              "  </tbody>\n",
              "</table>\n",
              "</div>"
            ],
            "text/plain": [
              "   COD_ORGAO                NOME_ORGAO  QTD_ORGAOS_SUBORDINADOS\n",
              "0      20000  Presidência da República                        2"
            ]
          },
          "metadata": {
            "tags": []
          },
          "execution_count": 25
        }
      ]
    },
    {
      "cell_type": "markdown",
      "metadata": {
        "id": "0Hk-EcnpG41q",
        "pycharm": {
          "name": "#%% md\n"
        }
      },
      "source": [
        "**3.** Liste todos os nomes dos órgãos e o valor das despesas totais no ano de 2018 para os mesmos, ordenando de forma decrescente pelo valor."
      ]
    },
    {
      "cell_type": "code",
      "metadata": {
        "scrolled": false,
        "id": "LIEa2HJRG41r",
        "pycharm": {
          "name": "#%%\n"
        },
        "colab": {
          "base_uri": "https://localhost:8080/",
          "height": 483
        },
        "outputId": "22713a54-fb6a-453e-fd34-209fad0bc850"
      },
      "source": [
        "df = pd.read_sql_query(\"SELECT NOME_ORGAO, SUM(VALOR_DESPESA) AS VALOR_DESP_2018 FROM DESPESA_PUBLICA NATURAL JOIN ORGAO WHERE ANO_DESPESA='2018' GROUP BY NOME_ORGAO ORDER BY VALOR_DESP_2018 DESC\", conn)\n",
        "df"
      ],
      "execution_count": 90,
      "outputs": [
        {
          "output_type": "execute_result",
          "data": {
            "text/html": [
              "<div>\n",
              "<style scoped>\n",
              "    .dataframe tbody tr th:only-of-type {\n",
              "        vertical-align: middle;\n",
              "    }\n",
              "\n",
              "    .dataframe tbody tr th {\n",
              "        vertical-align: top;\n",
              "    }\n",
              "\n",
              "    .dataframe thead th {\n",
              "        text-align: right;\n",
              "    }\n",
              "</style>\n",
              "<table border=\"1\" class=\"dataframe\">\n",
              "  <thead>\n",
              "    <tr style=\"text-align: right;\">\n",
              "      <th></th>\n",
              "      <th>NOME_ORGAO</th>\n",
              "      <th>VALOR_DESP_2018</th>\n",
              "    </tr>\n",
              "  </thead>\n",
              "  <tbody>\n",
              "    <tr>\n",
              "      <th>0</th>\n",
              "      <td>Ministério da Defesa</td>\n",
              "      <td>353376.70</td>\n",
              "    </tr>\n",
              "    <tr>\n",
              "      <th>1</th>\n",
              "      <td>Ministério do Desenvolvimento Social</td>\n",
              "      <td>278586.35</td>\n",
              "    </tr>\n",
              "    <tr>\n",
              "      <th>2</th>\n",
              "      <td>Ministério da Agricultura, Pecuária e Abastec</td>\n",
              "      <td>90836.51</td>\n",
              "    </tr>\n",
              "    <tr>\n",
              "      <th>3</th>\n",
              "      <td>Ministério da Educação</td>\n",
              "      <td>64007.82</td>\n",
              "    </tr>\n",
              "    <tr>\n",
              "      <th>4</th>\n",
              "      <td>Ministério da Saúde</td>\n",
              "      <td>50971.19</td>\n",
              "    </tr>\n",
              "    <tr>\n",
              "      <th>5</th>\n",
              "      <td>Ministério da Ciência, Tecnologia, Inovações</td>\n",
              "      <td>0.00</td>\n",
              "    </tr>\n",
              "    <tr>\n",
              "      <th>6</th>\n",
              "      <td>Ministério da Fazenda</td>\n",
              "      <td>0.00</td>\n",
              "    </tr>\n",
              "    <tr>\n",
              "      <th>7</th>\n",
              "      <td>Ministério da Integração Nacional</td>\n",
              "      <td>0.00</td>\n",
              "    </tr>\n",
              "    <tr>\n",
              "      <th>8</th>\n",
              "      <td>Ministério da Justiça e Segurança Pública</td>\n",
              "      <td>0.00</td>\n",
              "    </tr>\n",
              "    <tr>\n",
              "      <th>9</th>\n",
              "      <td>Ministério das Relações Exteriores</td>\n",
              "      <td>0.00</td>\n",
              "    </tr>\n",
              "    <tr>\n",
              "      <th>10</th>\n",
              "      <td>Ministério do Meio Ambiente</td>\n",
              "      <td>0.00</td>\n",
              "    </tr>\n",
              "    <tr>\n",
              "      <th>11</th>\n",
              "      <td>Ministério dos Direitos Humanos</td>\n",
              "      <td>0.00</td>\n",
              "    </tr>\n",
              "    <tr>\n",
              "      <th>12</th>\n",
              "      <td>Ministério dos Transportes, Portos e Aviação</td>\n",
              "      <td>0.00</td>\n",
              "    </tr>\n",
              "    <tr>\n",
              "      <th>13</th>\n",
              "      <td>Presidência da República</td>\n",
              "      <td>0.00</td>\n",
              "    </tr>\n",
              "  </tbody>\n",
              "</table>\n",
              "</div>"
            ],
            "text/plain": [
              "                                       NOME_ORGAO  VALOR_DESP_2018\n",
              "0                            Ministério da Defesa        353376.70\n",
              "1            Ministério do Desenvolvimento Social        278586.35\n",
              "2   Ministério da Agricultura, Pecuária e Abastec         90836.51\n",
              "3                          Ministério da Educação         64007.82\n",
              "4                             Ministério da Saúde         50971.19\n",
              "5   Ministério da Ciência, Tecnologia, Inovações              0.00\n",
              "6                           Ministério da Fazenda             0.00\n",
              "7               Ministério da Integração Nacional             0.00\n",
              "8       Ministério da Justiça e Segurança Pública             0.00\n",
              "9              Ministério das Relações Exteriores             0.00\n",
              "10                    Ministério do Meio Ambiente             0.00\n",
              "11                Ministério dos Direitos Humanos             0.00\n",
              "12  Ministério dos Transportes, Portos e Aviação              0.00\n",
              "13                       Presidência da República             0.00"
            ]
          },
          "metadata": {
            "tags": []
          },
          "execution_count": 90
        }
      ]
    },
    {
      "cell_type": "markdown",
      "metadata": {
        "id": "XbWL79JAG41y",
        "pycharm": {
          "name": "#%% md\n"
        }
      },
      "source": [
        "**4.** Liste o mês e ano, modalidade, programa de governo e valor de todas as despesas do órgão Ministério da Fazenda no primeiro semestre de 2018.\n",
        "\n",
        "\n"
      ]
    },
    {
      "cell_type": "code",
      "metadata": {
        "scrolled": false,
        "id": "SNDpxc_3G41z",
        "pycharm": {
          "name": "#%%\n"
        },
        "colab": {
          "base_uri": "https://localhost:8080/",
          "height": 266
        },
        "outputId": "54cfa31c-b5dc-436c-9b4b-d0fbfc4befb8"
      },
      "source": [
        "df = pd.read_sql_query(\"SELECT MES_DESPESA, ANO_DESPESA, MODALIDADE_DESPESA, NOME_PROGRAMA_GOVERNO, VALOR_DESPESA FROM (DESPESA_PUBLICA NATURAL JOIN ORGAO NATURAL JOIN PROGRAMA_GOVERNO) WHERE NOME_ORGAO='Ministério da Fazenda' AND ANO_DESPESA=2018 AND MES_DESPESA<7\", conn)\n",
        "df"
      ],
      "execution_count": 42,
      "outputs": [
        {
          "output_type": "execute_result",
          "data": {
            "text/html": [
              "<div>\n",
              "<style scoped>\n",
              "    .dataframe tbody tr th:only-of-type {\n",
              "        vertical-align: middle;\n",
              "    }\n",
              "\n",
              "    .dataframe tbody tr th {\n",
              "        vertical-align: top;\n",
              "    }\n",
              "\n",
              "    .dataframe thead th {\n",
              "        text-align: right;\n",
              "    }\n",
              "</style>\n",
              "<table border=\"1\" class=\"dataframe\">\n",
              "  <thead>\n",
              "    <tr style=\"text-align: right;\">\n",
              "      <th></th>\n",
              "      <th>MES_DESPESA</th>\n",
              "      <th>ANO_DESPESA</th>\n",
              "      <th>MODALIDADE_DESPESA</th>\n",
              "      <th>NOME_PROGRAMA_GOVERNO</th>\n",
              "      <th>VALOR_DESPESA</th>\n",
              "    </tr>\n",
              "  </thead>\n",
              "  <tbody>\n",
              "    <tr>\n",
              "      <th>0</th>\n",
              "      <td>4</td>\n",
              "      <td>2018</td>\n",
              "      <td>Reserva de Contingência</td>\n",
              "      <td>GESTAO AEROPORTUARIA</td>\n",
              "      <td>0</td>\n",
              "    </tr>\n",
              "    <tr>\n",
              "      <th>1</th>\n",
              "      <td>1</td>\n",
              "      <td>2018</td>\n",
              "      <td>Reserva de Contingência</td>\n",
              "      <td>BRASIL SEM MISERIA</td>\n",
              "      <td>0</td>\n",
              "    </tr>\n",
              "    <tr>\n",
              "      <th>2</th>\n",
              "      <td>2</td>\n",
              "      <td>2018</td>\n",
              "      <td>Reserva de Contingência</td>\n",
              "      <td>BRASIL SEM MISERIA</td>\n",
              "      <td>0</td>\n",
              "    </tr>\n",
              "    <tr>\n",
              "      <th>3</th>\n",
              "      <td>3</td>\n",
              "      <td>2018</td>\n",
              "      <td>Reserva de Contingência</td>\n",
              "      <td>BRASIL SEM MISERIA</td>\n",
              "      <td>0</td>\n",
              "    </tr>\n",
              "    <tr>\n",
              "      <th>4</th>\n",
              "      <td>4</td>\n",
              "      <td>2018</td>\n",
              "      <td>Reserva de Contingência</td>\n",
              "      <td>BRASIL SEM MISERIA</td>\n",
              "      <td>0</td>\n",
              "    </tr>\n",
              "    <tr>\n",
              "      <th>5</th>\n",
              "      <td>5</td>\n",
              "      <td>2018</td>\n",
              "      <td>Reserva de Contingência</td>\n",
              "      <td>BRASIL SEM MISERIA</td>\n",
              "      <td>0</td>\n",
              "    </tr>\n",
              "    <tr>\n",
              "      <th>6</th>\n",
              "      <td>6</td>\n",
              "      <td>2018</td>\n",
              "      <td>Reserva de Contingência</td>\n",
              "      <td>BRASIL SEM MISERIA</td>\n",
              "      <td>0</td>\n",
              "    </tr>\n",
              "  </tbody>\n",
              "</table>\n",
              "</div>"
            ],
            "text/plain": [
              "   MES_DESPESA  ANO_DESPESA  ... NOME_PROGRAMA_GOVERNO VALOR_DESPESA\n",
              "0            4         2018  ...  GESTAO AEROPORTUARIA             0\n",
              "1            1         2018  ...    BRASIL SEM MISERIA             0\n",
              "2            2         2018  ...    BRASIL SEM MISERIA             0\n",
              "3            3         2018  ...    BRASIL SEM MISERIA             0\n",
              "4            4         2018  ...    BRASIL SEM MISERIA             0\n",
              "5            5         2018  ...    BRASIL SEM MISERIA             0\n",
              "6            6         2018  ...    BRASIL SEM MISERIA             0\n",
              "\n",
              "[7 rows x 5 columns]"
            ]
          },
          "metadata": {
            "tags": []
          },
          "execution_count": 42
        }
      ]
    },
    {
      "cell_type": "markdown",
      "metadata": {
        "id": "Yo9Iln_yG412",
        "pycharm": {
          "name": "#%% md\n"
        }
      },
      "source": [
        "**5.** Liste o código e nome dos programas de governo que possuíram os 3 maiores valores de despesas totais na função de educação durante o ano de 2018."
      ]
    },
    {
      "cell_type": "code",
      "metadata": {
        "scrolled": false,
        "id": "2C3s7o8sG413",
        "pycharm": {
          "name": "#%%\n"
        },
        "colab": {
          "base_uri": "https://localhost:8080/",
          "height": 142
        },
        "outputId": "64a5aa0d-2da5-4641-bf69-32e5936074bc"
      },
      "source": [
        "df = pd.read_sql_query(\"SELECT COD_PROGRAMA_GOVERNO, NOME_PROGRAMA_GOVERNO, SUM(VALOR_DESPESA) AS DESP_TOTAIS FROM (DESPESA_PUBLICA NATURAL JOIN FUNCAO NATURAL JOIN PROGRAMA_GOVERNO) WHERE NOME_FUNCAO='Educação' AND ANO_DESPESA='2018' GROUP BY COD_PROGRAMA_GOVERNO ORDER BY DESP_TOTAIS DESC LIMIT 3\", conn)\n",
        "df"
      ],
      "execution_count": 49,
      "outputs": [
        {
          "output_type": "execute_result",
          "data": {
            "text/html": [
              "<div>\n",
              "<style scoped>\n",
              "    .dataframe tbody tr th:only-of-type {\n",
              "        vertical-align: middle;\n",
              "    }\n",
              "\n",
              "    .dataframe tbody tr th {\n",
              "        vertical-align: top;\n",
              "    }\n",
              "\n",
              "    .dataframe thead th {\n",
              "        text-align: right;\n",
              "    }\n",
              "</style>\n",
              "<table border=\"1\" class=\"dataframe\">\n",
              "  <thead>\n",
              "    <tr style=\"text-align: right;\">\n",
              "      <th></th>\n",
              "      <th>COD_PROGRAMA_GOVERNO</th>\n",
              "      <th>NOME_PROGRAMA_GOVERNO</th>\n",
              "      <th>DESP_TOTAIS</th>\n",
              "    </tr>\n",
              "  </thead>\n",
              "  <tbody>\n",
              "    <tr>\n",
              "      <th>0</th>\n",
              "      <td>24</td>\n",
              "      <td>BRASIL SEM MISERIA</td>\n",
              "      <td>387175.60</td>\n",
              "    </tr>\n",
              "    <tr>\n",
              "      <th>1</th>\n",
              "      <td>11</td>\n",
              "      <td>ENEM</td>\n",
              "      <td>334262.06</td>\n",
              "    </tr>\n",
              "    <tr>\n",
              "      <th>2</th>\n",
              "      <td>14</td>\n",
              "      <td>PRONATEC</td>\n",
              "      <td>60262.46</td>\n",
              "    </tr>\n",
              "  </tbody>\n",
              "</table>\n",
              "</div>"
            ],
            "text/plain": [
              "   COD_PROGRAMA_GOVERNO NOME_PROGRAMA_GOVERNO  DESP_TOTAIS\n",
              "0                    24    BRASIL SEM MISERIA    387175.60\n",
              "1                    11                  ENEM    334262.06\n",
              "2                    14              PRONATEC     60262.46"
            ]
          },
          "metadata": {
            "tags": []
          },
          "execution_count": 49
        }
      ]
    },
    {
      "cell_type": "markdown",
      "metadata": {
        "id": "4TpNWfhxG416",
        "pycharm": {
          "name": "#%% md\n"
        }
      },
      "source": [
        "**6.** Transforme os caracteres em minúsculo e remova todos os termos 'da' na coluna nome_orgao da tabela orgão."
      ]
    },
    {
      "cell_type": "code",
      "metadata": {
        "scrolled": false,
        "id": "eZ25oY25G417",
        "pycharm": {
          "name": "#%%\n"
        },
        "colab": {
          "base_uri": "https://localhost:8080/",
          "height": 483
        },
        "outputId": "be3932f4-a939-4923-da88-7c12f930e05e"
      },
      "source": [
        "df = pd.read_sql_query(\"SELECT COD_ORGAO, lower(replace(NOME_ORGAO, ' da ', ' ')) AS NOME_ORGAO, QTD_ORGAOS_SUBORDINADOS FROM ORGAO\", conn)\n",
        "df"
      ],
      "execution_count": 59,
      "outputs": [
        {
          "output_type": "execute_result",
          "data": {
            "text/html": [
              "<div>\n",
              "<style scoped>\n",
              "    .dataframe tbody tr th:only-of-type {\n",
              "        vertical-align: middle;\n",
              "    }\n",
              "\n",
              "    .dataframe tbody tr th {\n",
              "        vertical-align: top;\n",
              "    }\n",
              "\n",
              "    .dataframe thead th {\n",
              "        text-align: right;\n",
              "    }\n",
              "</style>\n",
              "<table border=\"1\" class=\"dataframe\">\n",
              "  <thead>\n",
              "    <tr style=\"text-align: right;\">\n",
              "      <th></th>\n",
              "      <th>COD_ORGAO</th>\n",
              "      <th>NOME_ORGAO</th>\n",
              "      <th>QTD_ORGAOS_SUBORDINADOS</th>\n",
              "    </tr>\n",
              "  </thead>\n",
              "  <tbody>\n",
              "    <tr>\n",
              "      <th>0</th>\n",
              "      <td>20000</td>\n",
              "      <td>presidência república</td>\n",
              "      <td>2</td>\n",
              "    </tr>\n",
              "    <tr>\n",
              "      <th>1</th>\n",
              "      <td>22000</td>\n",
              "      <td>ministério agricultura, pecuária e abastec</td>\n",
              "      <td>5</td>\n",
              "    </tr>\n",
              "    <tr>\n",
              "      <th>2</th>\n",
              "      <td>24000</td>\n",
              "      <td>ministério ciência, tecnologia, inovações</td>\n",
              "      <td>4</td>\n",
              "    </tr>\n",
              "    <tr>\n",
              "      <th>3</th>\n",
              "      <td>25000</td>\n",
              "      <td>ministério fazenda</td>\n",
              "      <td>3</td>\n",
              "    </tr>\n",
              "    <tr>\n",
              "      <th>4</th>\n",
              "      <td>26000</td>\n",
              "      <td>ministério educação</td>\n",
              "      <td>104</td>\n",
              "    </tr>\n",
              "    <tr>\n",
              "      <th>5</th>\n",
              "      <td>30000</td>\n",
              "      <td>ministério justiça e segurança pública</td>\n",
              "      <td>6</td>\n",
              "    </tr>\n",
              "    <tr>\n",
              "      <th>6</th>\n",
              "      <td>35000</td>\n",
              "      <td>ministério das relações exteriores</td>\n",
              "      <td>1</td>\n",
              "    </tr>\n",
              "    <tr>\n",
              "      <th>7</th>\n",
              "      <td>36000</td>\n",
              "      <td>ministério saúde</td>\n",
              "      <td>3</td>\n",
              "    </tr>\n",
              "    <tr>\n",
              "      <th>8</th>\n",
              "      <td>39000</td>\n",
              "      <td>ministério dos transportes, portos e aviação</td>\n",
              "      <td>2</td>\n",
              "    </tr>\n",
              "    <tr>\n",
              "      <th>9</th>\n",
              "      <td>44000</td>\n",
              "      <td>ministério do meio ambiente</td>\n",
              "      <td>2</td>\n",
              "    </tr>\n",
              "    <tr>\n",
              "      <th>10</th>\n",
              "      <td>52000</td>\n",
              "      <td>ministério defesa</td>\n",
              "      <td>4</td>\n",
              "    </tr>\n",
              "    <tr>\n",
              "      <th>11</th>\n",
              "      <td>53000</td>\n",
              "      <td>ministério integração nacional</td>\n",
              "      <td>4</td>\n",
              "    </tr>\n",
              "    <tr>\n",
              "      <th>12</th>\n",
              "      <td>55000</td>\n",
              "      <td>ministério do desenvolvimento social</td>\n",
              "      <td>2</td>\n",
              "    </tr>\n",
              "    <tr>\n",
              "      <th>13</th>\n",
              "      <td>81000</td>\n",
              "      <td>ministério dos direitos humanos</td>\n",
              "      <td>1</td>\n",
              "    </tr>\n",
              "  </tbody>\n",
              "</table>\n",
              "</div>"
            ],
            "text/plain": [
              "    COD_ORGAO  ... QTD_ORGAOS_SUBORDINADOS\n",
              "0       20000  ...                       2\n",
              "1       22000  ...                       5\n",
              "2       24000  ...                       4\n",
              "3       25000  ...                       3\n",
              "4       26000  ...                     104\n",
              "5       30000  ...                       6\n",
              "6       35000  ...                       1\n",
              "7       36000  ...                       3\n",
              "8       39000  ...                       2\n",
              "9       44000  ...                       2\n",
              "10      52000  ...                       4\n",
              "11      53000  ...                       4\n",
              "12      55000  ...                       2\n",
              "13      81000  ...                       1\n",
              "\n",
              "[14 rows x 3 columns]"
            ]
          },
          "metadata": {
            "tags": []
          },
          "execution_count": 59
        }
      ]
    },
    {
      "cell_type": "markdown",
      "metadata": {
        "id": "5vg_FHhhG42C",
        "pycharm": {
          "name": "#%% md\n"
        }
      },
      "source": [
        "**7.** Liste os órgãos governamentais e a quantidade de programas de governo distintos envolvidos nas despesas públicas desses órgãos. Nesta consulta, desconsidere valores de despesa negativos ou iguais a zero no período."
      ]
    },
    {
      "cell_type": "code",
      "metadata": {
        "id": "8m2VR3rYG42C",
        "pycharm": {
          "name": "#%%\n"
        },
        "colab": {
          "base_uri": "https://localhost:8080/",
          "height": 204
        },
        "outputId": "1116acf0-2231-41c0-a327-431c8b41c4b2"
      },
      "source": [
        "df = pd.read_sql_query(\"SELECT NOME_ORGAO, COUNT(DISTINCT NOME_PROGRAMA_GOVERNO) AS QTD_PROG FROM (DESPESA_PUBLICA NATURAL JOIN ORGAO NATURAL JOIN PROGRAMA_GOVERNO) WHERE VALOR_DESPESA>0 GROUP BY NOME_ORGAO\", conn)\n",
        "df"
      ],
      "execution_count": 69,
      "outputs": [
        {
          "output_type": "execute_result",
          "data": {
            "text/html": [
              "<div>\n",
              "<style scoped>\n",
              "    .dataframe tbody tr th:only-of-type {\n",
              "        vertical-align: middle;\n",
              "    }\n",
              "\n",
              "    .dataframe tbody tr th {\n",
              "        vertical-align: top;\n",
              "    }\n",
              "\n",
              "    .dataframe thead th {\n",
              "        text-align: right;\n",
              "    }\n",
              "</style>\n",
              "<table border=\"1\" class=\"dataframe\">\n",
              "  <thead>\n",
              "    <tr style=\"text-align: right;\">\n",
              "      <th></th>\n",
              "      <th>NOME_ORGAO</th>\n",
              "      <th>QTD_PROG</th>\n",
              "    </tr>\n",
              "  </thead>\n",
              "  <tbody>\n",
              "    <tr>\n",
              "      <th>0</th>\n",
              "      <td>Ministério da Agricultura, Pecuária e Abastec</td>\n",
              "      <td>2</td>\n",
              "    </tr>\n",
              "    <tr>\n",
              "      <th>1</th>\n",
              "      <td>Ministério da Defesa</td>\n",
              "      <td>2</td>\n",
              "    </tr>\n",
              "    <tr>\n",
              "      <th>2</th>\n",
              "      <td>Ministério da Educação</td>\n",
              "      <td>4</td>\n",
              "    </tr>\n",
              "    <tr>\n",
              "      <th>3</th>\n",
              "      <td>Ministério da Saúde</td>\n",
              "      <td>2</td>\n",
              "    </tr>\n",
              "    <tr>\n",
              "      <th>4</th>\n",
              "      <td>Ministério do Desenvolvimento Social</td>\n",
              "      <td>1</td>\n",
              "    </tr>\n",
              "  </tbody>\n",
              "</table>\n",
              "</div>"
            ],
            "text/plain": [
              "                                      NOME_ORGAO  QTD_PROG\n",
              "0  Ministério da Agricultura, Pecuária e Abastec         2\n",
              "1                           Ministério da Defesa         2\n",
              "2                         Ministério da Educação         4\n",
              "3                            Ministério da Saúde         2\n",
              "4           Ministério do Desenvolvimento Social         1"
            ]
          },
          "metadata": {
            "tags": []
          },
          "execution_count": 69
        }
      ]
    },
    {
      "cell_type": "markdown",
      "metadata": {
        "id": "4aTLYKVlG42F",
        "pycharm": {
          "name": "#%% md\n"
        }
      },
      "source": [
        "**8.** Liste os nomes das subfunções das despesas públicas envolvidas para cada programa de governo. Sua consulta deve retornar o nome do programa de governo, a subfunção da despesa, a quantidade de entradas de despesas públicas e o valor total dessas despesas."
      ]
    },
    {
      "cell_type": "code",
      "metadata": {
        "scrolled": false,
        "id": "SOJHEEkFG42G",
        "pycharm": {
          "name": "#%%\n"
        },
        "colab": {
          "base_uri": "https://localhost:8080/",
          "height": 419
        },
        "outputId": "8a9af952-ec02-4df1-e477-89d378c0c21e"
      },
      "source": [
        "df = pd.read_sql_query(\"SELECT NOME_PROGRAMA_GOVERNO, NOME_SUBFUNCAO, COUNT(*) AS QTD_DESP, SUM(VALOR_DESPESA) AS VALOR_TOTAL_DESP FROM (DESPESA_PUBLICA NATURAL JOIN PROGRAMA_GOVERNO NATURAL JOIN DETALHAMENTO_FUNCAO NATURAL JOIN SUBFUNCAO) GROUP BY NOME_PROGRAMA_GOVERNO, NOME_SUBFUNCAO\", conn)\n",
        "df"
      ],
      "execution_count": 84,
      "outputs": [
        {
          "output_type": "execute_result",
          "data": {
            "text/html": [
              "<div>\n",
              "<style scoped>\n",
              "    .dataframe tbody tr th:only-of-type {\n",
              "        vertical-align: middle;\n",
              "    }\n",
              "\n",
              "    .dataframe tbody tr th {\n",
              "        vertical-align: top;\n",
              "    }\n",
              "\n",
              "    .dataframe thead th {\n",
              "        text-align: right;\n",
              "    }\n",
              "</style>\n",
              "<table border=\"1\" class=\"dataframe\">\n",
              "  <thead>\n",
              "    <tr style=\"text-align: right;\">\n",
              "      <th></th>\n",
              "      <th>NOME_PROGRAMA_GOVERNO</th>\n",
              "      <th>NOME_SUBFUNCAO</th>\n",
              "      <th>QTD_DESP</th>\n",
              "      <th>VALOR_TOTAL_DESP</th>\n",
              "    </tr>\n",
              "  </thead>\n",
              "  <tbody>\n",
              "    <tr>\n",
              "      <th>0</th>\n",
              "      <td>BRASIL SEM MISERIA</td>\n",
              "      <td>Alimentação e nutrição</td>\n",
              "      <td>112</td>\n",
              "      <td>100373.55</td>\n",
              "    </tr>\n",
              "    <tr>\n",
              "      <th>1</th>\n",
              "      <td>BRASIL SEM MISERIA</td>\n",
              "      <td>Assistência comunitária</td>\n",
              "      <td>117</td>\n",
              "      <td>227883.77</td>\n",
              "    </tr>\n",
              "    <tr>\n",
              "      <th>2</th>\n",
              "      <td>BRASIL SEM MISERIA</td>\n",
              "      <td>Comunicação social</td>\n",
              "      <td>1</td>\n",
              "      <td>0.00</td>\n",
              "    </tr>\n",
              "    <tr>\n",
              "      <th>3</th>\n",
              "      <td>BRASIL SEM MISERIA</td>\n",
              "      <td>Difusão do conhecimento científico e tecnológico</td>\n",
              "      <td>13</td>\n",
              "      <td>0.00</td>\n",
              "    </tr>\n",
              "    <tr>\n",
              "      <th>4</th>\n",
              "      <td>BRASIL SEM MISERIA</td>\n",
              "      <td>Educação infantil</td>\n",
              "      <td>2</td>\n",
              "      <td>0.00</td>\n",
              "    </tr>\n",
              "    <tr>\n",
              "      <th>...</th>\n",
              "      <td>...</td>\n",
              "      <td>...</td>\n",
              "      <td>...</td>\n",
              "      <td>...</td>\n",
              "    </tr>\n",
              "    <tr>\n",
              "      <th>60</th>\n",
              "      <td>VIVER SEM LIMITE</td>\n",
              "      <td>Desenvolvimento tecnológico e engenharia</td>\n",
              "      <td>11</td>\n",
              "      <td>0.00</td>\n",
              "    </tr>\n",
              "    <tr>\n",
              "      <th>61</th>\n",
              "      <td>VIVER SEM LIMITE</td>\n",
              "      <td>Educação básica</td>\n",
              "      <td>1</td>\n",
              "      <td>0.00</td>\n",
              "    </tr>\n",
              "    <tr>\n",
              "      <th>62</th>\n",
              "      <td>VIVER SEM LIMITE</td>\n",
              "      <td>Ensino superior</td>\n",
              "      <td>19</td>\n",
              "      <td>0.00</td>\n",
              "    </tr>\n",
              "    <tr>\n",
              "      <th>63</th>\n",
              "      <td>VIVER SEM LIMITE</td>\n",
              "      <td>Normatização e fiscalização</td>\n",
              "      <td>11</td>\n",
              "      <td>0.00</td>\n",
              "    </tr>\n",
              "    <tr>\n",
              "      <th>64</th>\n",
              "      <td>VIVER SEM LIMITE</td>\n",
              "      <td>Transferências para a educação básica</td>\n",
              "      <td>2</td>\n",
              "      <td>0.00</td>\n",
              "    </tr>\n",
              "  </tbody>\n",
              "</table>\n",
              "<p>65 rows × 4 columns</p>\n",
              "</div>"
            ],
            "text/plain": [
              "   NOME_PROGRAMA_GOVERNO  ... VALOR_TOTAL_DESP\n",
              "0     BRASIL SEM MISERIA  ...        100373.55\n",
              "1     BRASIL SEM MISERIA  ...        227883.77\n",
              "2     BRASIL SEM MISERIA  ...             0.00\n",
              "3     BRASIL SEM MISERIA  ...             0.00\n",
              "4     BRASIL SEM MISERIA  ...             0.00\n",
              "..                   ...  ...              ...\n",
              "60      VIVER SEM LIMITE  ...             0.00\n",
              "61      VIVER SEM LIMITE  ...             0.00\n",
              "62      VIVER SEM LIMITE  ...             0.00\n",
              "63      VIVER SEM LIMITE  ...             0.00\n",
              "64      VIVER SEM LIMITE  ...             0.00\n",
              "\n",
              "[65 rows x 4 columns]"
            ]
          },
          "metadata": {
            "tags": []
          },
          "execution_count": 84
        }
      ]
    },
    {
      "cell_type": "markdown",
      "metadata": {
        "id": "OD7TxifCG42K",
        "pycharm": {
          "name": "#%% md\n"
        }
      },
      "source": [
        "**9.** Liste todas as despesas públicas (código da despesa, mês e ano da despesa, modalidade, valor) em que o órgão responsável é aquele que possui o maior número de órgãos subordinados."
      ]
    },
    {
      "cell_type": "code",
      "metadata": {
        "id": "qIdkOCpSG42K",
        "pycharm": {
          "name": "#%%\n"
        },
        "colab": {
          "base_uri": "https://localhost:8080/",
          "height": 419
        },
        "outputId": "cd7cf253-f3ee-4667-de9a-9399f71331e1"
      },
      "source": [
        "df = pd.read_sql_query(\"SELECT COD_DESPESA, MES_DESPESA, ANO_DESPESA, MODALIDADE_DESPESA, VALOR_DESPESA FROM DESPESA_PUBLICA WHERE COD_ORGAO IN (SELECT COD_ORGAO FROM ORGAO ORDER BY QTD_ORGAOS_SUBORDINADOS DESC LIMIT 1)\", conn)\n",
        "df"
      ],
      "execution_count": 87,
      "outputs": [
        {
          "output_type": "execute_result",
          "data": {
            "text/html": [
              "<div>\n",
              "<style scoped>\n",
              "    .dataframe tbody tr th:only-of-type {\n",
              "        vertical-align: middle;\n",
              "    }\n",
              "\n",
              "    .dataframe tbody tr th {\n",
              "        vertical-align: top;\n",
              "    }\n",
              "\n",
              "    .dataframe thead th {\n",
              "        text-align: right;\n",
              "    }\n",
              "</style>\n",
              "<table border=\"1\" class=\"dataframe\">\n",
              "  <thead>\n",
              "    <tr style=\"text-align: right;\">\n",
              "      <th></th>\n",
              "      <th>COD_DESPESA</th>\n",
              "      <th>MES_DESPESA</th>\n",
              "      <th>ANO_DESPESA</th>\n",
              "      <th>MODALIDADE_DESPESA</th>\n",
              "      <th>VALOR_DESPESA</th>\n",
              "    </tr>\n",
              "  </thead>\n",
              "  <tbody>\n",
              "    <tr>\n",
              "      <th>0</th>\n",
              "      <td>196</td>\n",
              "      <td>10</td>\n",
              "      <td>2018</td>\n",
              "      <td>Reserva de Contingência</td>\n",
              "      <td>0.0</td>\n",
              "    </tr>\n",
              "    <tr>\n",
              "      <th>1</th>\n",
              "      <td>197</td>\n",
              "      <td>1</td>\n",
              "      <td>2018</td>\n",
              "      <td>Reserva de Contingência</td>\n",
              "      <td>0.0</td>\n",
              "    </tr>\n",
              "    <tr>\n",
              "      <th>2</th>\n",
              "      <td>198</td>\n",
              "      <td>2</td>\n",
              "      <td>2018</td>\n",
              "      <td>Reserva de Contingência</td>\n",
              "      <td>0.0</td>\n",
              "    </tr>\n",
              "    <tr>\n",
              "      <th>3</th>\n",
              "      <td>199</td>\n",
              "      <td>3</td>\n",
              "      <td>2018</td>\n",
              "      <td>Reserva de Contingência</td>\n",
              "      <td>0.0</td>\n",
              "    </tr>\n",
              "    <tr>\n",
              "      <th>4</th>\n",
              "      <td>200</td>\n",
              "      <td>4</td>\n",
              "      <td>2018</td>\n",
              "      <td>Reserva de Contingência</td>\n",
              "      <td>0.0</td>\n",
              "    </tr>\n",
              "    <tr>\n",
              "      <th>...</th>\n",
              "      <td>...</td>\n",
              "      <td>...</td>\n",
              "      <td>...</td>\n",
              "      <td>...</td>\n",
              "      <td>...</td>\n",
              "    </tr>\n",
              "    <tr>\n",
              "      <th>289</th>\n",
              "      <td>485</td>\n",
              "      <td>8</td>\n",
              "      <td>2018</td>\n",
              "      <td>Reserva de Contingência</td>\n",
              "      <td>2400.0</td>\n",
              "    </tr>\n",
              "    <tr>\n",
              "      <th>290</th>\n",
              "      <td>486</td>\n",
              "      <td>9</td>\n",
              "      <td>2018</td>\n",
              "      <td>Reserva de Contingência</td>\n",
              "      <td>0.0</td>\n",
              "    </tr>\n",
              "    <tr>\n",
              "      <th>291</th>\n",
              "      <td>487</td>\n",
              "      <td>10</td>\n",
              "      <td>2018</td>\n",
              "      <td>Reserva de Contingência</td>\n",
              "      <td>0.0</td>\n",
              "    </tr>\n",
              "    <tr>\n",
              "      <th>292</th>\n",
              "      <td>488</td>\n",
              "      <td>11</td>\n",
              "      <td>2018</td>\n",
              "      <td>Reserva de Contingência</td>\n",
              "      <td>0.0</td>\n",
              "    </tr>\n",
              "    <tr>\n",
              "      <th>293</th>\n",
              "      <td>489</td>\n",
              "      <td>12</td>\n",
              "      <td>2018</td>\n",
              "      <td>Reserva de Contingência</td>\n",
              "      <td>0.0</td>\n",
              "    </tr>\n",
              "  </tbody>\n",
              "</table>\n",
              "<p>294 rows × 5 columns</p>\n",
              "</div>"
            ],
            "text/plain": [
              "     COD_DESPESA  MES_DESPESA  ...       MODALIDADE_DESPESA VALOR_DESPESA\n",
              "0            196           10  ...  Reserva de Contingência           0.0\n",
              "1            197            1  ...  Reserva de Contingência           0.0\n",
              "2            198            2  ...  Reserva de Contingência           0.0\n",
              "3            199            3  ...  Reserva de Contingência           0.0\n",
              "4            200            4  ...  Reserva de Contingência           0.0\n",
              "..           ...          ...  ...                      ...           ...\n",
              "289          485            8  ...  Reserva de Contingência        2400.0\n",
              "290          486            9  ...  Reserva de Contingência           0.0\n",
              "291          487           10  ...  Reserva de Contingência           0.0\n",
              "292          488           11  ...  Reserva de Contingência           0.0\n",
              "293          489           12  ...  Reserva de Contingência           0.0\n",
              "\n",
              "[294 rows x 5 columns]"
            ]
          },
          "metadata": {
            "tags": []
          },
          "execution_count": 87
        }
      ]
    },
    {
      "cell_type": "markdown",
      "metadata": {
        "id": "k11q5Eh0G42Q",
        "pycharm": {
          "name": "#%% md\n"
        }
      },
      "source": [
        "**10.** Liste todas as despesas públicas (código da despesa, mês e ano da despesa, modalidade, valor) em que o órgão responsável é aquele que possui o maior valor total em despesas durante o ano de 2018."
      ]
    },
    {
      "cell_type": "code",
      "metadata": {
        "id": "W313teDOG42R",
        "pycharm": {
          "name": "#%%\n"
        },
        "colab": {
          "base_uri": "https://localhost:8080/",
          "height": 1000
        },
        "outputId": "5d30bf18-9927-4927-ce31-b659857049ca"
      },
      "source": [
        "df = pd.read_sql_query(\"SELECT COD_DESPESA, MES_DESPESA, ANO_DESPESA, MODALIDADE_DESPESA, VALOR_DESPESA FROM DESPESA_PUBLICA WHERE COD_ORGAO IN (SELECT COD_ORGAO FROM DESPESA_PUBLICA NATURAL JOIN ORGAO WHERE ANO_DESPESA='2018' GROUP BY NOME_ORGAO ORDER BY SUM(VALOR_DESPESA) DESC LIMIT 1)\", conn)\n",
        "df"
      ],
      "execution_count": 95,
      "outputs": [
        {
          "output_type": "execute_result",
          "data": {
            "text/html": [
              "<div>\n",
              "<style scoped>\n",
              "    .dataframe tbody tr th:only-of-type {\n",
              "        vertical-align: middle;\n",
              "    }\n",
              "\n",
              "    .dataframe tbody tr th {\n",
              "        vertical-align: top;\n",
              "    }\n",
              "\n",
              "    .dataframe thead th {\n",
              "        text-align: right;\n",
              "    }\n",
              "</style>\n",
              "<table border=\"1\" class=\"dataframe\">\n",
              "  <thead>\n",
              "    <tr style=\"text-align: right;\">\n",
              "      <th></th>\n",
              "      <th>COD_DESPESA</th>\n",
              "      <th>MES_DESPESA</th>\n",
              "      <th>ANO_DESPESA</th>\n",
              "      <th>MODALIDADE_DESPESA</th>\n",
              "      <th>VALOR_DESPESA</th>\n",
              "    </tr>\n",
              "  </thead>\n",
              "  <tbody>\n",
              "    <tr>\n",
              "      <th>0</th>\n",
              "      <td>827</td>\n",
              "      <td>1</td>\n",
              "      <td>2018</td>\n",
              "      <td>Reserva de Contingência</td>\n",
              "      <td>0.0</td>\n",
              "    </tr>\n",
              "    <tr>\n",
              "      <th>1</th>\n",
              "      <td>828</td>\n",
              "      <td>2</td>\n",
              "      <td>2018</td>\n",
              "      <td>Reserva de Contingência</td>\n",
              "      <td>0.0</td>\n",
              "    </tr>\n",
              "    <tr>\n",
              "      <th>2</th>\n",
              "      <td>829</td>\n",
              "      <td>3</td>\n",
              "      <td>2018</td>\n",
              "      <td>Reserva de Contingência</td>\n",
              "      <td>0.0</td>\n",
              "    </tr>\n",
              "    <tr>\n",
              "      <th>3</th>\n",
              "      <td>830</td>\n",
              "      <td>4</td>\n",
              "      <td>2018</td>\n",
              "      <td>Reserva de Contingência</td>\n",
              "      <td>0.0</td>\n",
              "    </tr>\n",
              "    <tr>\n",
              "      <th>4</th>\n",
              "      <td>831</td>\n",
              "      <td>5</td>\n",
              "      <td>2018</td>\n",
              "      <td>Reserva de Contingência</td>\n",
              "      <td>0.0</td>\n",
              "    </tr>\n",
              "    <tr>\n",
              "      <th>5</th>\n",
              "      <td>832</td>\n",
              "      <td>6</td>\n",
              "      <td>2018</td>\n",
              "      <td>Reserva de Contingência</td>\n",
              "      <td>0.0</td>\n",
              "    </tr>\n",
              "    <tr>\n",
              "      <th>6</th>\n",
              "      <td>833</td>\n",
              "      <td>7</td>\n",
              "      <td>2018</td>\n",
              "      <td>Reserva de Contingência</td>\n",
              "      <td>0.0</td>\n",
              "    </tr>\n",
              "    <tr>\n",
              "      <th>7</th>\n",
              "      <td>834</td>\n",
              "      <td>8</td>\n",
              "      <td>2018</td>\n",
              "      <td>Reserva de Contingência</td>\n",
              "      <td>0.0</td>\n",
              "    </tr>\n",
              "    <tr>\n",
              "      <th>8</th>\n",
              "      <td>835</td>\n",
              "      <td>9</td>\n",
              "      <td>2018</td>\n",
              "      <td>Reserva de Contingência</td>\n",
              "      <td>334126.7</td>\n",
              "    </tr>\n",
              "    <tr>\n",
              "      <th>9</th>\n",
              "      <td>836</td>\n",
              "      <td>10</td>\n",
              "      <td>2018</td>\n",
              "      <td>Reserva de Contingência</td>\n",
              "      <td>0.0</td>\n",
              "    </tr>\n",
              "    <tr>\n",
              "      <th>10</th>\n",
              "      <td>837</td>\n",
              "      <td>11</td>\n",
              "      <td>2018</td>\n",
              "      <td>Reserva de Contingência</td>\n",
              "      <td>0.0</td>\n",
              "    </tr>\n",
              "    <tr>\n",
              "      <th>11</th>\n",
              "      <td>838</td>\n",
              "      <td>12</td>\n",
              "      <td>2018</td>\n",
              "      <td>Reserva de Contingência</td>\n",
              "      <td>0.0</td>\n",
              "    </tr>\n",
              "    <tr>\n",
              "      <th>12</th>\n",
              "      <td>839</td>\n",
              "      <td>12</td>\n",
              "      <td>2018</td>\n",
              "      <td>Transferências a Instituições Privadas sem Fin...</td>\n",
              "      <td>0.0</td>\n",
              "    </tr>\n",
              "    <tr>\n",
              "      <th>13</th>\n",
              "      <td>840</td>\n",
              "      <td>1</td>\n",
              "      <td>2018</td>\n",
              "      <td>Reserva de Contingência</td>\n",
              "      <td>0.0</td>\n",
              "    </tr>\n",
              "    <tr>\n",
              "      <th>14</th>\n",
              "      <td>841</td>\n",
              "      <td>2</td>\n",
              "      <td>2018</td>\n",
              "      <td>Reserva de Contingência</td>\n",
              "      <td>0.0</td>\n",
              "    </tr>\n",
              "    <tr>\n",
              "      <th>15</th>\n",
              "      <td>842</td>\n",
              "      <td>3</td>\n",
              "      <td>2018</td>\n",
              "      <td>Reserva de Contingência</td>\n",
              "      <td>0.0</td>\n",
              "    </tr>\n",
              "    <tr>\n",
              "      <th>16</th>\n",
              "      <td>843</td>\n",
              "      <td>4</td>\n",
              "      <td>2018</td>\n",
              "      <td>Reserva de Contingência</td>\n",
              "      <td>0.0</td>\n",
              "    </tr>\n",
              "    <tr>\n",
              "      <th>17</th>\n",
              "      <td>844</td>\n",
              "      <td>5</td>\n",
              "      <td>2018</td>\n",
              "      <td>Reserva de Contingência</td>\n",
              "      <td>0.0</td>\n",
              "    </tr>\n",
              "    <tr>\n",
              "      <th>18</th>\n",
              "      <td>845</td>\n",
              "      <td>6</td>\n",
              "      <td>2018</td>\n",
              "      <td>Reserva de Contingência</td>\n",
              "      <td>0.0</td>\n",
              "    </tr>\n",
              "    <tr>\n",
              "      <th>19</th>\n",
              "      <td>846</td>\n",
              "      <td>8</td>\n",
              "      <td>2018</td>\n",
              "      <td>Reserva de Contingência</td>\n",
              "      <td>0.0</td>\n",
              "    </tr>\n",
              "    <tr>\n",
              "      <th>20</th>\n",
              "      <td>847</td>\n",
              "      <td>12</td>\n",
              "      <td>2018</td>\n",
              "      <td>Reserva de Contingência</td>\n",
              "      <td>0.0</td>\n",
              "    </tr>\n",
              "    <tr>\n",
              "      <th>21</th>\n",
              "      <td>848</td>\n",
              "      <td>1</td>\n",
              "      <td>2018</td>\n",
              "      <td>Reserva de Contingência</td>\n",
              "      <td>0.0</td>\n",
              "    </tr>\n",
              "    <tr>\n",
              "      <th>22</th>\n",
              "      <td>849</td>\n",
              "      <td>1</td>\n",
              "      <td>2018</td>\n",
              "      <td>Reserva de Contingência</td>\n",
              "      <td>0.0</td>\n",
              "    </tr>\n",
              "    <tr>\n",
              "      <th>23</th>\n",
              "      <td>850</td>\n",
              "      <td>2</td>\n",
              "      <td>2018</td>\n",
              "      <td>Reserva de Contingência</td>\n",
              "      <td>0.0</td>\n",
              "    </tr>\n",
              "    <tr>\n",
              "      <th>24</th>\n",
              "      <td>851</td>\n",
              "      <td>3</td>\n",
              "      <td>2018</td>\n",
              "      <td>Reserva de Contingência</td>\n",
              "      <td>0.0</td>\n",
              "    </tr>\n",
              "    <tr>\n",
              "      <th>25</th>\n",
              "      <td>852</td>\n",
              "      <td>4</td>\n",
              "      <td>2018</td>\n",
              "      <td>Reserva de Contingência</td>\n",
              "      <td>0.0</td>\n",
              "    </tr>\n",
              "    <tr>\n",
              "      <th>26</th>\n",
              "      <td>853</td>\n",
              "      <td>5</td>\n",
              "      <td>2018</td>\n",
              "      <td>Reserva de Contingência</td>\n",
              "      <td>0.0</td>\n",
              "    </tr>\n",
              "    <tr>\n",
              "      <th>27</th>\n",
              "      <td>854</td>\n",
              "      <td>6</td>\n",
              "      <td>2018</td>\n",
              "      <td>Reserva de Contingência</td>\n",
              "      <td>0.0</td>\n",
              "    </tr>\n",
              "    <tr>\n",
              "      <th>28</th>\n",
              "      <td>855</td>\n",
              "      <td>7</td>\n",
              "      <td>2018</td>\n",
              "      <td>Reserva de Contingência</td>\n",
              "      <td>0.0</td>\n",
              "    </tr>\n",
              "    <tr>\n",
              "      <th>29</th>\n",
              "      <td>856</td>\n",
              "      <td>8</td>\n",
              "      <td>2018</td>\n",
              "      <td>Reserva de Contingência</td>\n",
              "      <td>0.0</td>\n",
              "    </tr>\n",
              "    <tr>\n",
              "      <th>30</th>\n",
              "      <td>857</td>\n",
              "      <td>9</td>\n",
              "      <td>2018</td>\n",
              "      <td>Reserva de Contingência</td>\n",
              "      <td>0.0</td>\n",
              "    </tr>\n",
              "    <tr>\n",
              "      <th>31</th>\n",
              "      <td>858</td>\n",
              "      <td>10</td>\n",
              "      <td>2018</td>\n",
              "      <td>Reserva de Contingência</td>\n",
              "      <td>19250.0</td>\n",
              "    </tr>\n",
              "    <tr>\n",
              "      <th>32</th>\n",
              "      <td>859</td>\n",
              "      <td>11</td>\n",
              "      <td>2018</td>\n",
              "      <td>Reserva de Contingência</td>\n",
              "      <td>0.0</td>\n",
              "    </tr>\n",
              "    <tr>\n",
              "      <th>33</th>\n",
              "      <td>860</td>\n",
              "      <td>12</td>\n",
              "      <td>2018</td>\n",
              "      <td>Reserva de Contingência</td>\n",
              "      <td>0.0</td>\n",
              "    </tr>\n",
              "    <tr>\n",
              "      <th>34</th>\n",
              "      <td>861</td>\n",
              "      <td>1</td>\n",
              "      <td>2018</td>\n",
              "      <td>Reserva de Contingência</td>\n",
              "      <td>0.0</td>\n",
              "    </tr>\n",
              "    <tr>\n",
              "      <th>35</th>\n",
              "      <td>862</td>\n",
              "      <td>2</td>\n",
              "      <td>2018</td>\n",
              "      <td>Reserva de Contingência</td>\n",
              "      <td>0.0</td>\n",
              "    </tr>\n",
              "    <tr>\n",
              "      <th>36</th>\n",
              "      <td>863</td>\n",
              "      <td>3</td>\n",
              "      <td>2018</td>\n",
              "      <td>Reserva de Contingência</td>\n",
              "      <td>0.0</td>\n",
              "    </tr>\n",
              "    <tr>\n",
              "      <th>37</th>\n",
              "      <td>864</td>\n",
              "      <td>4</td>\n",
              "      <td>2018</td>\n",
              "      <td>Reserva de Contingência</td>\n",
              "      <td>0.0</td>\n",
              "    </tr>\n",
              "    <tr>\n",
              "      <th>38</th>\n",
              "      <td>865</td>\n",
              "      <td>5</td>\n",
              "      <td>2018</td>\n",
              "      <td>Reserva de Contingência</td>\n",
              "      <td>0.0</td>\n",
              "    </tr>\n",
              "    <tr>\n",
              "      <th>39</th>\n",
              "      <td>866</td>\n",
              "      <td>6</td>\n",
              "      <td>2018</td>\n",
              "      <td>Reserva de Contingência</td>\n",
              "      <td>0.0</td>\n",
              "    </tr>\n",
              "    <tr>\n",
              "      <th>40</th>\n",
              "      <td>867</td>\n",
              "      <td>7</td>\n",
              "      <td>2018</td>\n",
              "      <td>Reserva de Contingência</td>\n",
              "      <td>0.0</td>\n",
              "    </tr>\n",
              "    <tr>\n",
              "      <th>41</th>\n",
              "      <td>868</td>\n",
              "      <td>8</td>\n",
              "      <td>2018</td>\n",
              "      <td>Reserva de Contingência</td>\n",
              "      <td>0.0</td>\n",
              "    </tr>\n",
              "    <tr>\n",
              "      <th>42</th>\n",
              "      <td>869</td>\n",
              "      <td>9</td>\n",
              "      <td>2018</td>\n",
              "      <td>Reserva de Contingência</td>\n",
              "      <td>0.0</td>\n",
              "    </tr>\n",
              "    <tr>\n",
              "      <th>43</th>\n",
              "      <td>870</td>\n",
              "      <td>10</td>\n",
              "      <td>2018</td>\n",
              "      <td>Reserva de Contingência</td>\n",
              "      <td>0.0</td>\n",
              "    </tr>\n",
              "    <tr>\n",
              "      <th>44</th>\n",
              "      <td>871</td>\n",
              "      <td>11</td>\n",
              "      <td>2018</td>\n",
              "      <td>Reserva de Contingência</td>\n",
              "      <td>0.0</td>\n",
              "    </tr>\n",
              "    <tr>\n",
              "      <th>45</th>\n",
              "      <td>872</td>\n",
              "      <td>12</td>\n",
              "      <td>2018</td>\n",
              "      <td>Reserva de Contingência</td>\n",
              "      <td>0.0</td>\n",
              "    </tr>\n",
              "    <tr>\n",
              "      <th>46</th>\n",
              "      <td>873</td>\n",
              "      <td>3</td>\n",
              "      <td>2018</td>\n",
              "      <td>Reserva de Contingência</td>\n",
              "      <td>0.0</td>\n",
              "    </tr>\n",
              "    <tr>\n",
              "      <th>47</th>\n",
              "      <td>874</td>\n",
              "      <td>4</td>\n",
              "      <td>2018</td>\n",
              "      <td>Reserva de Contingência</td>\n",
              "      <td>0.0</td>\n",
              "    </tr>\n",
              "    <tr>\n",
              "      <th>48</th>\n",
              "      <td>875</td>\n",
              "      <td>5</td>\n",
              "      <td>2018</td>\n",
              "      <td>Reserva de Contingência</td>\n",
              "      <td>0.0</td>\n",
              "    </tr>\n",
              "    <tr>\n",
              "      <th>49</th>\n",
              "      <td>876</td>\n",
              "      <td>6</td>\n",
              "      <td>2018</td>\n",
              "      <td>Reserva de Contingência</td>\n",
              "      <td>0.0</td>\n",
              "    </tr>\n",
              "    <tr>\n",
              "      <th>50</th>\n",
              "      <td>877</td>\n",
              "      <td>7</td>\n",
              "      <td>2018</td>\n",
              "      <td>Reserva de Contingência</td>\n",
              "      <td>0.0</td>\n",
              "    </tr>\n",
              "    <tr>\n",
              "      <th>51</th>\n",
              "      <td>878</td>\n",
              "      <td>8</td>\n",
              "      <td>2018</td>\n",
              "      <td>Reserva de Contingência</td>\n",
              "      <td>0.0</td>\n",
              "    </tr>\n",
              "    <tr>\n",
              "      <th>52</th>\n",
              "      <td>879</td>\n",
              "      <td>9</td>\n",
              "      <td>2018</td>\n",
              "      <td>Reserva de Contingência</td>\n",
              "      <td>0.0</td>\n",
              "    </tr>\n",
              "    <tr>\n",
              "      <th>53</th>\n",
              "      <td>880</td>\n",
              "      <td>10</td>\n",
              "      <td>2018</td>\n",
              "      <td>Reserva de Contingência</td>\n",
              "      <td>0.0</td>\n",
              "    </tr>\n",
              "    <tr>\n",
              "      <th>54</th>\n",
              "      <td>881</td>\n",
              "      <td>11</td>\n",
              "      <td>2018</td>\n",
              "      <td>Reserva de Contingência</td>\n",
              "      <td>0.0</td>\n",
              "    </tr>\n",
              "    <tr>\n",
              "      <th>55</th>\n",
              "      <td>882</td>\n",
              "      <td>12</td>\n",
              "      <td>2018</td>\n",
              "      <td>Reserva de Contingência</td>\n",
              "      <td>0.0</td>\n",
              "    </tr>\n",
              "  </tbody>\n",
              "</table>\n",
              "</div>"
            ],
            "text/plain": [
              "    COD_DESPESA  ...  VALOR_DESPESA\n",
              "0           827  ...            0.0\n",
              "1           828  ...            0.0\n",
              "2           829  ...            0.0\n",
              "3           830  ...            0.0\n",
              "4           831  ...            0.0\n",
              "5           832  ...            0.0\n",
              "6           833  ...            0.0\n",
              "7           834  ...            0.0\n",
              "8           835  ...       334126.7\n",
              "9           836  ...            0.0\n",
              "10          837  ...            0.0\n",
              "11          838  ...            0.0\n",
              "12          839  ...            0.0\n",
              "13          840  ...            0.0\n",
              "14          841  ...            0.0\n",
              "15          842  ...            0.0\n",
              "16          843  ...            0.0\n",
              "17          844  ...            0.0\n",
              "18          845  ...            0.0\n",
              "19          846  ...            0.0\n",
              "20          847  ...            0.0\n",
              "21          848  ...            0.0\n",
              "22          849  ...            0.0\n",
              "23          850  ...            0.0\n",
              "24          851  ...            0.0\n",
              "25          852  ...            0.0\n",
              "26          853  ...            0.0\n",
              "27          854  ...            0.0\n",
              "28          855  ...            0.0\n",
              "29          856  ...            0.0\n",
              "30          857  ...            0.0\n",
              "31          858  ...        19250.0\n",
              "32          859  ...            0.0\n",
              "33          860  ...            0.0\n",
              "34          861  ...            0.0\n",
              "35          862  ...            0.0\n",
              "36          863  ...            0.0\n",
              "37          864  ...            0.0\n",
              "38          865  ...            0.0\n",
              "39          866  ...            0.0\n",
              "40          867  ...            0.0\n",
              "41          868  ...            0.0\n",
              "42          869  ...            0.0\n",
              "43          870  ...            0.0\n",
              "44          871  ...            0.0\n",
              "45          872  ...            0.0\n",
              "46          873  ...            0.0\n",
              "47          874  ...            0.0\n",
              "48          875  ...            0.0\n",
              "49          876  ...            0.0\n",
              "50          877  ...            0.0\n",
              "51          878  ...            0.0\n",
              "52          879  ...            0.0\n",
              "53          880  ...            0.0\n",
              "54          881  ...            0.0\n",
              "55          882  ...            0.0\n",
              "\n",
              "[56 rows x 5 columns]"
            ]
          },
          "metadata": {
            "tags": []
          },
          "execution_count": 95
        }
      ]
    },
    {
      "cell_type": "markdown",
      "metadata": {
        "id": "bDN01TwoG42U",
        "pycharm": {
          "name": "#%% md\n"
        }
      },
      "source": [
        "**11.** Liste os códigos e nomes dos programas de governo relacionados ao órgão (ou órgãos, caso haja empate) que teve menos registros de despesas públicas durante o ano."
      ]
    },
    {
      "cell_type": "code",
      "metadata": {
        "scrolled": false,
        "id": "r16cTfiGG42V",
        "pycharm": {
          "name": "#%%\n"
        },
        "colab": {
          "base_uri": "https://localhost:8080/",
          "height": 111
        },
        "outputId": "9002084f-e58c-48f1-a8f4-cd4ee98d3c13"
      },
      "source": [
        "df = pd.read_sql_query(\"SELECT COD_PROGRAMA_GOVERNO, NOME_PROGRAMA_GOVERNO FROM DESPESA_PUBLICA NATURAL JOIN PROGRAMA_GOVERNO WHERE COD_ORGAO IN (SELECT COD_ORGAO FROM (SELECT COD_ORGAO, NOME_ORGAO, COUNT(*) AS NUM_DESP FROM DESPESA_PUBLICA NATURAL JOIN ORGAO WHERE ANO_DESPESA='2018' GROUP BY COD_ORGAO ORDER BY COUNT(*) ASC) WHERE NUM_DESP IN (SELECT min(NUM_DESP) FROM (SELECT COD_ORGAO, NOME_ORGAO, COUNT(*) AS NUM_DESP FROM DESPESA_PUBLICA NATURAL JOIN ORGAO WHERE ANO_DESPESA='2018' GROUP BY COD_ORGAO ORDER BY COUNT(*) ASC)))\", conn)\n",
        "df"
      ],
      "execution_count": 128,
      "outputs": [
        {
          "output_type": "execute_result",
          "data": {
            "text/html": [
              "<div>\n",
              "<style scoped>\n",
              "    .dataframe tbody tr th:only-of-type {\n",
              "        vertical-align: middle;\n",
              "    }\n",
              "\n",
              "    .dataframe tbody tr th {\n",
              "        vertical-align: top;\n",
              "    }\n",
              "\n",
              "    .dataframe thead th {\n",
              "        text-align: right;\n",
              "    }\n",
              "</style>\n",
              "<table border=\"1\" class=\"dataframe\">\n",
              "  <thead>\n",
              "    <tr style=\"text-align: right;\">\n",
              "      <th></th>\n",
              "      <th>COD_PROGRAMA_GOVERNO</th>\n",
              "      <th>NOME_PROGRAMA_GOVERNO</th>\n",
              "    </tr>\n",
              "  </thead>\n",
              "  <tbody>\n",
              "    <tr>\n",
              "      <th>0</th>\n",
              "      <td>19</td>\n",
              "      <td>OLIMPIADAS</td>\n",
              "    </tr>\n",
              "    <tr>\n",
              "      <th>1</th>\n",
              "      <td>24</td>\n",
              "      <td>BRASIL SEM MISERIA</td>\n",
              "    </tr>\n",
              "  </tbody>\n",
              "</table>\n",
              "</div>"
            ],
            "text/plain": [
              "   COD_PROGRAMA_GOVERNO NOME_PROGRAMA_GOVERNO\n",
              "0                    19            OLIMPIADAS\n",
              "1                    24    BRASIL SEM MISERIA"
            ]
          },
          "metadata": {
            "tags": []
          },
          "execution_count": 128
        }
      ]
    },
    {
      "cell_type": "markdown",
      "metadata": {
        "id": "x18gb-yqG42Y",
        "pycharm": {
          "name": "#%% md\n"
        }
      },
      "source": [
        "**12.**  Álgebra relacional: projeção do NOME_FUNCAO e NOME_SUBFUNCAO da junção natural das tabelas FUNCAO, DETALHAMENTO_FUNCAO e SUBFUNCAO"
      ]
    },
    {
      "cell_type": "markdown",
      "metadata": {
        "id": "B6SomzQGFNIj"
      },
      "source": [
        "RESULT = 𝜋 NOME_FUNCAO, NOME_SUBFUNCAO (FUNCAO ⋈ DETALHAMENTO_FUNCAO ⋈ SUBFUNCAO)"
      ]
    },
    {
      "cell_type": "code",
      "metadata": {
        "id": "73jm4FOHG42Z",
        "pycharm": {
          "name": "#%%\n"
        },
        "colab": {
          "base_uri": "https://localhost:8080/",
          "height": 1000
        },
        "outputId": "e32496f3-aab0-4c20-ab2c-d242e89ca3b3"
      },
      "source": [
        "df = pd.read_sql_query(\"SELECT NOME_FUNCAO, NOME_SUBFUNCAO FROM (FUNCAO NATURAL JOIN DETALHAMENTO_FUNCAO NATURAL JOIN SUBFUNCAO)\", conn)\n",
        "df"
      ],
      "execution_count": 132,
      "outputs": [
        {
          "output_type": "execute_result",
          "data": {
            "text/html": [
              "<div>\n",
              "<style scoped>\n",
              "    .dataframe tbody tr th:only-of-type {\n",
              "        vertical-align: middle;\n",
              "    }\n",
              "\n",
              "    .dataframe tbody tr th {\n",
              "        vertical-align: top;\n",
              "    }\n",
              "\n",
              "    .dataframe thead th {\n",
              "        text-align: right;\n",
              "    }\n",
              "</style>\n",
              "<table border=\"1\" class=\"dataframe\">\n",
              "  <thead>\n",
              "    <tr style=\"text-align: right;\">\n",
              "      <th></th>\n",
              "      <th>NOME_FUNCAO</th>\n",
              "      <th>NOME_SUBFUNCAO</th>\n",
              "    </tr>\n",
              "  </thead>\n",
              "  <tbody>\n",
              "    <tr>\n",
              "      <th>0</th>\n",
              "      <td>Essencial à justiça</td>\n",
              "      <td>Comunicação social</td>\n",
              "    </tr>\n",
              "    <tr>\n",
              "      <th>1</th>\n",
              "      <td>Defesa nacional</td>\n",
              "      <td>Administração geral</td>\n",
              "    </tr>\n",
              "    <tr>\n",
              "      <th>2</th>\n",
              "      <td>Defesa nacional</td>\n",
              "      <td>Defesa terrestre</td>\n",
              "    </tr>\n",
              "    <tr>\n",
              "      <th>3</th>\n",
              "      <td>Segurança pública</td>\n",
              "      <td>Administração geral</td>\n",
              "    </tr>\n",
              "    <tr>\n",
              "      <th>4</th>\n",
              "      <td>Segurança pública</td>\n",
              "      <td>Policiamento</td>\n",
              "    </tr>\n",
              "    <tr>\n",
              "      <th>5</th>\n",
              "      <td>Segurança pública</td>\n",
              "      <td>Defesa civil</td>\n",
              "    </tr>\n",
              "    <tr>\n",
              "      <th>6</th>\n",
              "      <td>Segurança pública</td>\n",
              "      <td>Informação e inteligência</td>\n",
              "    </tr>\n",
              "    <tr>\n",
              "      <th>7</th>\n",
              "      <td>Assistência social</td>\n",
              "      <td>Normatização e fiscalização</td>\n",
              "    </tr>\n",
              "    <tr>\n",
              "      <th>8</th>\n",
              "      <td>Assistência social</td>\n",
              "      <td>Tecnologia da informação</td>\n",
              "    </tr>\n",
              "    <tr>\n",
              "      <th>9</th>\n",
              "      <td>Assistência social</td>\n",
              "      <td>Comunicação social</td>\n",
              "    </tr>\n",
              "    <tr>\n",
              "      <th>10</th>\n",
              "      <td>Assistência social</td>\n",
              "      <td>Assistência comunitária</td>\n",
              "    </tr>\n",
              "    <tr>\n",
              "      <th>11</th>\n",
              "      <td>Assistência social</td>\n",
              "      <td>Alimentação e nutrição</td>\n",
              "    </tr>\n",
              "    <tr>\n",
              "      <th>12</th>\n",
              "      <td>Assistência social</td>\n",
              "      <td>Educação infantil</td>\n",
              "    </tr>\n",
              "    <tr>\n",
              "      <th>13</th>\n",
              "      <td>Assistência social</td>\n",
              "      <td>Saneamento básico rural</td>\n",
              "    </tr>\n",
              "    <tr>\n",
              "      <th>14</th>\n",
              "      <td>Saúde</td>\n",
              "      <td>Formação de recursos humanos</td>\n",
              "    </tr>\n",
              "    <tr>\n",
              "      <th>15</th>\n",
              "      <td>Saúde</td>\n",
              "      <td>Atenção básica</td>\n",
              "    </tr>\n",
              "    <tr>\n",
              "      <th>16</th>\n",
              "      <td>Saúde</td>\n",
              "      <td>Assistência hospitalar e ambulatorial</td>\n",
              "    </tr>\n",
              "    <tr>\n",
              "      <th>17</th>\n",
              "      <td>Trabalho</td>\n",
              "      <td>Fomento ao trabalho</td>\n",
              "    </tr>\n",
              "    <tr>\n",
              "      <th>18</th>\n",
              "      <td>Educação</td>\n",
              "      <td>Assistência hospitalar e ambulatorial</td>\n",
              "    </tr>\n",
              "    <tr>\n",
              "      <th>19</th>\n",
              "      <td>Educação</td>\n",
              "      <td>Ensino profissional</td>\n",
              "    </tr>\n",
              "    <tr>\n",
              "      <th>20</th>\n",
              "      <td>Educação</td>\n",
              "      <td>Ensino superior</td>\n",
              "    </tr>\n",
              "    <tr>\n",
              "      <th>21</th>\n",
              "      <td>Educação</td>\n",
              "      <td>Educação básica</td>\n",
              "    </tr>\n",
              "    <tr>\n",
              "      <th>22</th>\n",
              "      <td>Educação</td>\n",
              "      <td>Transferências para a educação básica</td>\n",
              "    </tr>\n",
              "    <tr>\n",
              "      <th>23</th>\n",
              "      <td>Direitos da cidadania</td>\n",
              "      <td>Assistência ao portador de deficiência</td>\n",
              "    </tr>\n",
              "    <tr>\n",
              "      <th>24</th>\n",
              "      <td>Direitos da cidadania</td>\n",
              "      <td>Custódia e reintegração social</td>\n",
              "    </tr>\n",
              "    <tr>\n",
              "      <th>25</th>\n",
              "      <td>Direitos da cidadania</td>\n",
              "      <td>Direitos individuais, coletivos e difusos</td>\n",
              "    </tr>\n",
              "    <tr>\n",
              "      <th>26</th>\n",
              "      <td>Urbanismo</td>\n",
              "      <td>Assistência comunitária</td>\n",
              "    </tr>\n",
              "    <tr>\n",
              "      <th>27</th>\n",
              "      <td>Gestão ambiental</td>\n",
              "      <td>Preservação e conservação ambiental</td>\n",
              "    </tr>\n",
              "    <tr>\n",
              "      <th>28</th>\n",
              "      <td>Gestão ambiental</td>\n",
              "      <td>Recursos hídricos</td>\n",
              "    </tr>\n",
              "    <tr>\n",
              "      <th>29</th>\n",
              "      <td>Ciência e Tecnologia</td>\n",
              "      <td>Desenvolvimento científico</td>\n",
              "    </tr>\n",
              "    <tr>\n",
              "      <th>30</th>\n",
              "      <td>Ciência e Tecnologia</td>\n",
              "      <td>Desenvolvimento tecnológico e engenharia</td>\n",
              "    </tr>\n",
              "    <tr>\n",
              "      <th>31</th>\n",
              "      <td>Agricultura</td>\n",
              "      <td>Difusão do conhecimento científico e tecnológico</td>\n",
              "    </tr>\n",
              "    <tr>\n",
              "      <th>32</th>\n",
              "      <td>Agricultura</td>\n",
              "      <td>Promoção da produção agropecuária</td>\n",
              "    </tr>\n",
              "    <tr>\n",
              "      <th>33</th>\n",
              "      <td>Organização agrária</td>\n",
              "      <td>Normatização e fiscalização</td>\n",
              "    </tr>\n",
              "    <tr>\n",
              "      <th>34</th>\n",
              "      <td>Organização agrária</td>\n",
              "      <td>Ordenamento territorial</td>\n",
              "    </tr>\n",
              "    <tr>\n",
              "      <th>35</th>\n",
              "      <td>Organização agrária</td>\n",
              "      <td>Extensão rural</td>\n",
              "    </tr>\n",
              "    <tr>\n",
              "      <th>36</th>\n",
              "      <td>Organização agrária</td>\n",
              "      <td>Reforma agrária</td>\n",
              "    </tr>\n",
              "    <tr>\n",
              "      <th>37</th>\n",
              "      <td>Indústria</td>\n",
              "      <td>Promoção comercial</td>\n",
              "    </tr>\n",
              "    <tr>\n",
              "      <th>38</th>\n",
              "      <td>Transporte</td>\n",
              "      <td>Administração geral</td>\n",
              "    </tr>\n",
              "    <tr>\n",
              "      <th>39</th>\n",
              "      <td>Encargos especiais</td>\n",
              "      <td>Outros encargos especiais</td>\n",
              "    </tr>\n",
              "  </tbody>\n",
              "</table>\n",
              "</div>"
            ],
            "text/plain": [
              "              NOME_FUNCAO                                    NOME_SUBFUNCAO\n",
              "0     Essencial à justiça                                Comunicação social\n",
              "1         Defesa nacional                               Administração geral\n",
              "2         Defesa nacional                                  Defesa terrestre\n",
              "3       Segurança pública                               Administração geral\n",
              "4       Segurança pública                                      Policiamento\n",
              "5       Segurança pública                                      Defesa civil\n",
              "6       Segurança pública                         Informação e inteligência\n",
              "7      Assistência social                       Normatização e fiscalização\n",
              "8      Assistência social                          Tecnologia da informação\n",
              "9      Assistência social                                Comunicação social\n",
              "10     Assistência social                           Assistência comunitária\n",
              "11     Assistência social                            Alimentação e nutrição\n",
              "12     Assistência social                                 Educação infantil\n",
              "13     Assistência social                           Saneamento básico rural\n",
              "14                  Saúde                      Formação de recursos humanos\n",
              "15                  Saúde                                    Atenção básica\n",
              "16                  Saúde             Assistência hospitalar e ambulatorial\n",
              "17               Trabalho                               Fomento ao trabalho\n",
              "18               Educação             Assistência hospitalar e ambulatorial\n",
              "19               Educação                               Ensino profissional\n",
              "20               Educação                                   Ensino superior\n",
              "21               Educação                                   Educação básica\n",
              "22               Educação             Transferências para a educação básica\n",
              "23  Direitos da cidadania            Assistência ao portador de deficiência\n",
              "24  Direitos da cidadania                    Custódia e reintegração social\n",
              "25  Direitos da cidadania         Direitos individuais, coletivos e difusos\n",
              "26              Urbanismo                           Assistência comunitária\n",
              "27       Gestão ambiental               Preservação e conservação ambiental\n",
              "28       Gestão ambiental                                 Recursos hídricos\n",
              "29   Ciência e Tecnologia                        Desenvolvimento científico\n",
              "30   Ciência e Tecnologia          Desenvolvimento tecnológico e engenharia\n",
              "31            Agricultura  Difusão do conhecimento científico e tecnológico\n",
              "32            Agricultura                 Promoção da produção agropecuária\n",
              "33    Organização agrária                       Normatização e fiscalização\n",
              "34    Organização agrária                           Ordenamento territorial\n",
              "35    Organização agrária                                    Extensão rural\n",
              "36    Organização agrária                                   Reforma agrária\n",
              "37              Indústria                                Promoção comercial\n",
              "38             Transporte                               Administração geral\n",
              "39     Encargos especiais                         Outros encargos especiais"
            ]
          },
          "metadata": {
            "tags": []
          },
          "execution_count": 132
        }
      ]
    },
    {
      "cell_type": "markdown",
      "metadata": {
        "id": "Mwv-emqQG42c",
        "pycharm": {
          "name": "#%% md\n"
        }
      },
      "source": [
        "**13.**  Álgebra relacional: projeção de MODALIDADE_DESPESA, VALOR_DESPESA e NOME_PROGRAMA_GOVERNO da junção natural das tabelas PROGRAMA_GOVERNO e DESPESA_PUBLICA onde a MODALIDADE_DESPESA = 'Reserva de Contingência'"
      ]
    },
    {
      "cell_type": "markdown",
      "metadata": {
        "id": "8KFy8MmYIGj5"
      },
      "source": [
        "RESULT = 𝜋 (MODALIDADE_DESPESA, VALOR_DESPESA, NOME_PROGRAMA_GOVERNO) 𝜎 MODALIDADE_DESPESA='Reserva de Contingência' (PROGRAMA_GOVERNO ⋈ DESPESA_PUBLICA)"
      ]
    },
    {
      "cell_type": "code",
      "metadata": {
        "id": "JG2E4JajG42d",
        "pycharm": {
          "name": "#%%\n"
        },
        "colab": {
          "base_uri": "https://localhost:8080/",
          "height": 419
        },
        "outputId": "0a93a000-0666-45f8-bf60-b9234be63586"
      },
      "source": [
        "df = pd.read_sql_query(\"SELECT MODALIDADE_DESPESA, VALOR_DESPESA, NOME_PROGRAMA_GOVERNO FROM (DESPESA_PUBLICA NATURAL JOIN PROGRAMA_GOVERNO) WHERE MODALIDADE_DESPESA='Reserva de Contingência'\", conn)\n",
        "df"
      ],
      "execution_count": 133,
      "outputs": [
        {
          "output_type": "execute_result",
          "data": {
            "text/html": [
              "<div>\n",
              "<style scoped>\n",
              "    .dataframe tbody tr th:only-of-type {\n",
              "        vertical-align: middle;\n",
              "    }\n",
              "\n",
              "    .dataframe tbody tr th {\n",
              "        vertical-align: top;\n",
              "    }\n",
              "\n",
              "    .dataframe thead th {\n",
              "        text-align: right;\n",
              "    }\n",
              "</style>\n",
              "<table border=\"1\" class=\"dataframe\">\n",
              "  <thead>\n",
              "    <tr style=\"text-align: right;\">\n",
              "      <th></th>\n",
              "      <th>MODALIDADE_DESPESA</th>\n",
              "      <th>VALOR_DESPESA</th>\n",
              "      <th>NOME_PROGRAMA_GOVERNO</th>\n",
              "    </tr>\n",
              "  </thead>\n",
              "  <tbody>\n",
              "    <tr>\n",
              "      <th>0</th>\n",
              "      <td>Reserva de Contingência</td>\n",
              "      <td>0.0</td>\n",
              "      <td>BRASIL SEM MISERIA</td>\n",
              "    </tr>\n",
              "    <tr>\n",
              "      <th>1</th>\n",
              "      <td>Reserva de Contingência</td>\n",
              "      <td>0.0</td>\n",
              "      <td>BRASIL SEM MISERIA</td>\n",
              "    </tr>\n",
              "    <tr>\n",
              "      <th>2</th>\n",
              "      <td>Reserva de Contingência</td>\n",
              "      <td>0.0</td>\n",
              "      <td>BRASIL SEM MISERIA</td>\n",
              "    </tr>\n",
              "    <tr>\n",
              "      <th>3</th>\n",
              "      <td>Reserva de Contingência</td>\n",
              "      <td>0.0</td>\n",
              "      <td>BRASIL SEM MISERIA</td>\n",
              "    </tr>\n",
              "    <tr>\n",
              "      <th>4</th>\n",
              "      <td>Reserva de Contingência</td>\n",
              "      <td>0.0</td>\n",
              "      <td>BRASIL SEM MISERIA</td>\n",
              "    </tr>\n",
              "    <tr>\n",
              "      <th>...</th>\n",
              "      <td>...</td>\n",
              "      <td>...</td>\n",
              "      <td>...</td>\n",
              "    </tr>\n",
              "    <tr>\n",
              "      <th>671</th>\n",
              "      <td>Reserva de Contingência</td>\n",
              "      <td>0.0</td>\n",
              "      <td>BRASIL SEM MISERIA</td>\n",
              "    </tr>\n",
              "    <tr>\n",
              "      <th>672</th>\n",
              "      <td>Reserva de Contingência</td>\n",
              "      <td>0.0</td>\n",
              "      <td>BRASIL SEM MISERIA</td>\n",
              "    </tr>\n",
              "    <tr>\n",
              "      <th>673</th>\n",
              "      <td>Reserva de Contingência</td>\n",
              "      <td>0.0</td>\n",
              "      <td>BRASIL SEM MISERIA</td>\n",
              "    </tr>\n",
              "    <tr>\n",
              "      <th>674</th>\n",
              "      <td>Reserva de Contingência</td>\n",
              "      <td>0.0</td>\n",
              "      <td>BRASIL SEM MISERIA</td>\n",
              "    </tr>\n",
              "    <tr>\n",
              "      <th>675</th>\n",
              "      <td>Reserva de Contingência</td>\n",
              "      <td>0.0</td>\n",
              "      <td>BRASIL SEM MISERIA</td>\n",
              "    </tr>\n",
              "  </tbody>\n",
              "</table>\n",
              "<p>676 rows × 3 columns</p>\n",
              "</div>"
            ],
            "text/plain": [
              "          MODALIDADE_DESPESA  VALOR_DESPESA NOME_PROGRAMA_GOVERNO\n",
              "0    Reserva de Contingência            0.0    BRASIL SEM MISERIA\n",
              "1    Reserva de Contingência            0.0    BRASIL SEM MISERIA\n",
              "2    Reserva de Contingência            0.0    BRASIL SEM MISERIA\n",
              "3    Reserva de Contingência            0.0    BRASIL SEM MISERIA\n",
              "4    Reserva de Contingência            0.0    BRASIL SEM MISERIA\n",
              "..                       ...            ...                   ...\n",
              "671  Reserva de Contingência            0.0    BRASIL SEM MISERIA\n",
              "672  Reserva de Contingência            0.0    BRASIL SEM MISERIA\n",
              "673  Reserva de Contingência            0.0    BRASIL SEM MISERIA\n",
              "674  Reserva de Contingência            0.0    BRASIL SEM MISERIA\n",
              "675  Reserva de Contingência            0.0    BRASIL SEM MISERIA\n",
              "\n",
              "[676 rows x 3 columns]"
            ]
          },
          "metadata": {
            "tags": []
          },
          "execution_count": 133
        }
      ]
    },
    {
      "cell_type": "markdown",
      "metadata": {
        "id": "TVqX_v22G42i",
        "pycharm": {
          "name": "#%% md\n"
        }
      },
      "source": [
        "**14.**  Álgebra relacional: projeção de VALOR_DESPESA e NOME_ORGAO da junção natural das tabelas DESPESA_PUBLICA e ORGAO onde o NOME_ORGAO = 'Ministério da Fazenda'"
      ]
    },
    {
      "cell_type": "markdown",
      "metadata": {
        "id": "bZxfH1esKTO8"
      },
      "source": [
        "RESULT = 𝜋 (VALOR_DESPESA, NOME_ORGAO) 𝜎 NOME_ORGAO='Ministério da Fazenda' (DESPESA_PUBLICA ⋈ ORGAO)"
      ]
    },
    {
      "cell_type": "code",
      "metadata": {
        "id": "0ylNfNJoG42j",
        "pycharm": {
          "name": "#%%\n"
        },
        "colab": {
          "base_uri": "https://localhost:8080/",
          "height": 452
        },
        "outputId": "44101a97-6af6-4021-cfb8-d0c12352068b"
      },
      "source": [
        "df = pd.read_sql_query(\"SELECT  VALOR_DESPESA, NOME_ORGAO FROM (DESPESA_PUBLICA NATURAL JOIN ORGAO) WHERE NOME_ORGAO='Ministério da Fazenda'\", conn)\n",
        "df"
      ],
      "execution_count": 134,
      "outputs": [
        {
          "output_type": "execute_result",
          "data": {
            "text/html": [
              "<div>\n",
              "<style scoped>\n",
              "    .dataframe tbody tr th:only-of-type {\n",
              "        vertical-align: middle;\n",
              "    }\n",
              "\n",
              "    .dataframe tbody tr th {\n",
              "        vertical-align: top;\n",
              "    }\n",
              "\n",
              "    .dataframe thead th {\n",
              "        text-align: right;\n",
              "    }\n",
              "</style>\n",
              "<table border=\"1\" class=\"dataframe\">\n",
              "  <thead>\n",
              "    <tr style=\"text-align: right;\">\n",
              "      <th></th>\n",
              "      <th>VALOR_DESPESA</th>\n",
              "      <th>NOME_ORGAO</th>\n",
              "    </tr>\n",
              "  </thead>\n",
              "  <tbody>\n",
              "    <tr>\n",
              "      <th>0</th>\n",
              "      <td>0</td>\n",
              "      <td>Ministério da Fazenda</td>\n",
              "    </tr>\n",
              "    <tr>\n",
              "      <th>1</th>\n",
              "      <td>0</td>\n",
              "      <td>Ministério da Fazenda</td>\n",
              "    </tr>\n",
              "    <tr>\n",
              "      <th>2</th>\n",
              "      <td>0</td>\n",
              "      <td>Ministério da Fazenda</td>\n",
              "    </tr>\n",
              "    <tr>\n",
              "      <th>3</th>\n",
              "      <td>0</td>\n",
              "      <td>Ministério da Fazenda</td>\n",
              "    </tr>\n",
              "    <tr>\n",
              "      <th>4</th>\n",
              "      <td>0</td>\n",
              "      <td>Ministério da Fazenda</td>\n",
              "    </tr>\n",
              "    <tr>\n",
              "      <th>5</th>\n",
              "      <td>0</td>\n",
              "      <td>Ministério da Fazenda</td>\n",
              "    </tr>\n",
              "    <tr>\n",
              "      <th>6</th>\n",
              "      <td>0</td>\n",
              "      <td>Ministério da Fazenda</td>\n",
              "    </tr>\n",
              "    <tr>\n",
              "      <th>7</th>\n",
              "      <td>0</td>\n",
              "      <td>Ministério da Fazenda</td>\n",
              "    </tr>\n",
              "    <tr>\n",
              "      <th>8</th>\n",
              "      <td>0</td>\n",
              "      <td>Ministério da Fazenda</td>\n",
              "    </tr>\n",
              "    <tr>\n",
              "      <th>9</th>\n",
              "      <td>0</td>\n",
              "      <td>Ministério da Fazenda</td>\n",
              "    </tr>\n",
              "    <tr>\n",
              "      <th>10</th>\n",
              "      <td>0</td>\n",
              "      <td>Ministério da Fazenda</td>\n",
              "    </tr>\n",
              "    <tr>\n",
              "      <th>11</th>\n",
              "      <td>0</td>\n",
              "      <td>Ministério da Fazenda</td>\n",
              "    </tr>\n",
              "    <tr>\n",
              "      <th>12</th>\n",
              "      <td>0</td>\n",
              "      <td>Ministério da Fazenda</td>\n",
              "    </tr>\n",
              "  </tbody>\n",
              "</table>\n",
              "</div>"
            ],
            "text/plain": [
              "    VALOR_DESPESA             NOME_ORGAO\n",
              "0               0  Ministério da Fazenda\n",
              "1               0  Ministério da Fazenda\n",
              "2               0  Ministério da Fazenda\n",
              "3               0  Ministério da Fazenda\n",
              "4               0  Ministério da Fazenda\n",
              "5               0  Ministério da Fazenda\n",
              "6               0  Ministério da Fazenda\n",
              "7               0  Ministério da Fazenda\n",
              "8               0  Ministério da Fazenda\n",
              "9               0  Ministério da Fazenda\n",
              "10              0  Ministério da Fazenda\n",
              "11              0  Ministério da Fazenda\n",
              "12              0  Ministério da Fazenda"
            ]
          },
          "metadata": {
            "tags": []
          },
          "execution_count": 134
        }
      ]
    },
    {
      "cell_type": "markdown",
      "metadata": {
        "collapsed": false,
        "id": "ikjln39psbK6"
      },
      "source": [
        "**15.**  Álgebra relacional: projeção de NOME_PROGRAMA_GOVERNO e VALOR_DESPESA da junção natural das tabelas DESPESA_PUBLICA, PROGRAMA_GOVERNO e ORGAO onde o NOME_ORGAO = 'Ministério da Saúde'"
      ]
    },
    {
      "cell_type": "markdown",
      "metadata": {
        "id": "pdhdUxbSLBtA"
      },
      "source": [
        "RESULT = 𝜋 (NOME_PROGRAMA_GOVERNO, VALOR_DESPESA) 𝜎 NOME_ORGAO='Ministério da Saúde' (DESPESA_PUBLICA ⋈ PROGRAMA_GOVERNO ⋈ ORGAO)"
      ]
    },
    {
      "cell_type": "code",
      "metadata": {
        "pycharm": {
          "name": "#%%\n"
        },
        "id": "jetjhyCK1Lyj",
        "colab": {
          "base_uri": "https://localhost:8080/",
          "height": 419
        },
        "outputId": "826e8703-5b37-482e-fc17-b8e4990bccb0"
      },
      "source": [
        "df = pd.read_sql_query(\"SELECT  NOME_PROGRAMA_GOVERNO, VALOR_DESPESA FROM (DESPESA_PUBLICA NATURAL JOIN PROGRAMA_GOVERNO NATURAL JOIN ORGAO) WHERE  NOME_ORGAO='Ministério da Saúde'\", conn)\n",
        "df"
      ],
      "execution_count": 135,
      "outputs": [
        {
          "output_type": "execute_result",
          "data": {
            "text/html": [
              "<div>\n",
              "<style scoped>\n",
              "    .dataframe tbody tr th:only-of-type {\n",
              "        vertical-align: middle;\n",
              "    }\n",
              "\n",
              "    .dataframe tbody tr th {\n",
              "        vertical-align: top;\n",
              "    }\n",
              "\n",
              "    .dataframe thead th {\n",
              "        text-align: right;\n",
              "    }\n",
              "</style>\n",
              "<table border=\"1\" class=\"dataframe\">\n",
              "  <thead>\n",
              "    <tr style=\"text-align: right;\">\n",
              "      <th></th>\n",
              "      <th>NOME_PROGRAMA_GOVERNO</th>\n",
              "      <th>VALOR_DESPESA</th>\n",
              "    </tr>\n",
              "  </thead>\n",
              "  <tbody>\n",
              "    <tr>\n",
              "      <th>0</th>\n",
              "      <td>VIVER SEM LIMITE</td>\n",
              "      <td>0.0</td>\n",
              "    </tr>\n",
              "    <tr>\n",
              "      <th>1</th>\n",
              "      <td>VIVER SEM LIMITE</td>\n",
              "      <td>0.0</td>\n",
              "    </tr>\n",
              "    <tr>\n",
              "      <th>2</th>\n",
              "      <td>VIVER SEM LIMITE</td>\n",
              "      <td>0.0</td>\n",
              "    </tr>\n",
              "    <tr>\n",
              "      <th>3</th>\n",
              "      <td>VIVER SEM LIMITE</td>\n",
              "      <td>0.0</td>\n",
              "    </tr>\n",
              "    <tr>\n",
              "      <th>4</th>\n",
              "      <td>VIVER SEM LIMITE</td>\n",
              "      <td>0.0</td>\n",
              "    </tr>\n",
              "    <tr>\n",
              "      <th>...</th>\n",
              "      <td>...</td>\n",
              "      <td>...</td>\n",
              "    </tr>\n",
              "    <tr>\n",
              "      <th>214</th>\n",
              "      <td>MAIS MEDICOS</td>\n",
              "      <td>0.0</td>\n",
              "    </tr>\n",
              "    <tr>\n",
              "      <th>215</th>\n",
              "      <td>MAIS MEDICOS</td>\n",
              "      <td>0.0</td>\n",
              "    </tr>\n",
              "    <tr>\n",
              "      <th>216</th>\n",
              "      <td>MAIS MEDICOS</td>\n",
              "      <td>0.0</td>\n",
              "    </tr>\n",
              "    <tr>\n",
              "      <th>217</th>\n",
              "      <td>MAIS MEDICOS</td>\n",
              "      <td>0.0</td>\n",
              "    </tr>\n",
              "    <tr>\n",
              "      <th>218</th>\n",
              "      <td>MAIS MEDICOS</td>\n",
              "      <td>0.0</td>\n",
              "    </tr>\n",
              "  </tbody>\n",
              "</table>\n",
              "<p>219 rows × 2 columns</p>\n",
              "</div>"
            ],
            "text/plain": [
              "    NOME_PROGRAMA_GOVERNO  VALOR_DESPESA\n",
              "0        VIVER SEM LIMITE            0.0\n",
              "1        VIVER SEM LIMITE            0.0\n",
              "2        VIVER SEM LIMITE            0.0\n",
              "3        VIVER SEM LIMITE            0.0\n",
              "4        VIVER SEM LIMITE            0.0\n",
              "..                    ...            ...\n",
              "214          MAIS MEDICOS            0.0\n",
              "215          MAIS MEDICOS            0.0\n",
              "216          MAIS MEDICOS            0.0\n",
              "217          MAIS MEDICOS            0.0\n",
              "218          MAIS MEDICOS            0.0\n",
              "\n",
              "[219 rows x 2 columns]"
            ]
          },
          "metadata": {
            "tags": []
          },
          "execution_count": 135
        }
      ]
    },
    {
      "cell_type": "markdown",
      "metadata": {
        "id": "clX3ruU9G42q"
      },
      "source": [
        "# 4. Fechamento da conexão com o banco\n",
        "\n",
        "* Após serem realizadas todas as consultas necessárias, é aconselhavel encerrar formalmente a conexão com o banco de dados"
      ]
    },
    {
      "cell_type": "code",
      "metadata": {
        "id": "my0mPqYVG42r"
      },
      "source": [
        "conn.close()"
      ],
      "execution_count": null,
      "outputs": []
    }
  ]
}